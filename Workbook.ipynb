{
 "cells": [
  {
   "cell_type": "markdown",
   "metadata": {},
   "source": [
    "# Trabajo Final - Econometría Espacial\n",
    "## Propuesta de investigación: análisis espacial del discurso de los senadores nacionales durante la sesión extraordinaria en la que se debatía la interrupción voluntaria del embarazo\n",
    "### Parte 2 del trabajo:\n",
    "Ubicación de los senadores dentro del espectro político utilizando componentes princiaples a partir de las votaciones pasadas."
   ]
  },
  {
   "cell_type": "code",
   "execution_count": 3,
   "metadata": {
    "collapsed": false
   },
   "outputs": [],
   "source": [
    "# Paquetes:\n",
    "from IPython.core.display import HTML\n",
    "import requests\n",
    "import pandas as pd\n",
    "import numpy as np\n",
    "import matplotlib\n",
    "from matplotlib import pyplot as plt\n",
    "import datetime\n",
    "import seaborn as sns\n",
    "from dateutil import parser\n",
    "import pytz\n",
    "import pylab as pl\n",
    "# %pip install pyquery\n",
    "from pyquery import PyQuery as pq\n",
    "import numpy as np\n",
    "import scipy\n",
    "import pandas as pd\n",
    "from lxml import etree\n",
    "import os\n",
    "from os import path\n",
    "from pprint import pprint\n",
    "import dateutil\n",
    "import json\n",
    "%matplotlib inline"
   ]
  },
  {
   "cell_type": "markdown",
   "metadata": {},
   "source": [
    "Antes del siguiente bloque de código, hay que ir a la terminal (Git Bash) y correr la siguiente línea de código\n",
    "\n",
    "cd \"C:\\Users\\lulap\\Documents\\Maestria\\3er Trimestre\\Econometria espacial\\Homework\\Trabajo final\\Espectro-politico-senadores\"\n",
    "\n",
    "ls\n",
    "\n",
    "bash scrape-jsons.sh\n",
    "\n",
    "sh scrape-jsons.sh\n",
    "\n",
    "./scrape-jsons.sh\n",
    "\n",
    "Esto, va cambiando el número del final de la URL y va extrayendo la data\n",
    "\n",
    "URL: http://votaciones.lanacion.com.ar/api/votacion/637"
   ]
  },
  {
   "cell_type": "code",
   "execution_count": 127,
   "metadata": {
    "collapsed": true
   },
   "outputs": [],
   "source": [
    "# Esta línea de código lee los archivos dentro de la carpeta jsons\n",
    "\n",
    "all_motions_json = []\n",
    "# for i in range(1, 637+1):\n",
    "# for i in range(1, 998+1):\n",
    "# for i in range(1, 2000+1):\n",
    "for i in range(1, 2500+1):\n",
    "    try:\n",
    "        j = json.load(open('jsons/%s.json' % i))\n",
    "        all_motions_json.append(j)\n",
    "    except:\n",
    "        pass"
   ]
  },
  {
   "cell_type": "code",
   "execution_count": 128,
   "metadata": {
    "collapsed": false
   },
   "outputs": [
    {
     "data": {
      "text/plain": [
       "'16/12/2021'"
      ]
     },
     "execution_count": 128,
     "metadata": {},
     "output_type": "execute_result"
    }
   ],
   "source": [
    "# Esta línea de código muestra la fecha de la última sesión\n",
    "j['fecha']\n",
    "# con 637: '01/07/2016'\n",
    "# con 998: '19/10/2016'\n",
    "# con 2000: '14/05/2020'\n",
    "# con 2500: '16/12/2021'"
   ]
  },
  {
   "cell_type": "code",
   "execution_count": 86,
   "metadata": {
    "collapsed": false
   },
   "outputs": [],
   "source": [
    "s_votes = []\n",
    "\n",
    "for m in all_motions_json:\n",
    "    v = m['votos']\n",
    "    s = pd.DataFrame(v)\n",
    "    s['sesion_id'] = m['sesion_id']\n",
    "    s['datestr'] = m['fecha']\n",
    "    s = s.set_index(['legislador_id', 'sesion_id'])\n",
    "    s_votes.append(s)"
   ]
  },
  {
   "cell_type": "code",
   "execution_count": 87,
   "metadata": {
    "collapsed": false
   },
   "outputs": [],
   "source": [
    "df_votes = pd.concat(s_votes)"
   ]
  },
  {
   "cell_type": "code",
   "execution_count": 88,
   "metadata": {
    "collapsed": false
   },
   "outputs": [],
   "source": [
    "# Este bloque de código asigna a cada voto (string) un valor\n",
    "def vote_to_number(v):\n",
    "    MAPPING = {\n",
    "        'AFIRMATIVO': 1, # Yes\n",
    "        'AUSENTE': 0, # Absent, did not come to the session\n",
    "        'NEGATIVO': -1, # No\n",
    "        'ABSTENCION': 0, # person is present, but not vote\n",
    "    }\n",
    "    return MAPPING.get(v, 0)\n",
    "    \n",
    "df_votes['vote-value'] = df_votes['voto'].apply(vote_to_number)"
   ]
  },
  {
   "cell_type": "code",
   "execution_count": 89,
   "metadata": {
    "collapsed": false
   },
   "outputs": [],
   "source": [
    "from datetime import date\n",
    "\n",
    "df_votes['date'] = df_votes['datestr'].apply(lambda x: date(\n",
    "        int(x.split('/')[2]), \n",
    "        int(x.split('/')[1]), \n",
    "        int(x.split('/')[0])\n",
    "    ))\n",
    "df_votes['datetime'] = df_votes['date'].apply(lambda d: datetime.datetime(*d.timetuple()[:7]))"
   ]
  },
  {
   "cell_type": "code",
   "execution_count": 90,
   "metadata": {
    "collapsed": false
   },
   "outputs": [
    {
     "data": {
      "text/plain": [
       "legislador_id  sesion_id\n",
       "288            8            2013-04-17\n",
       "395            8            2013-04-17\n",
       "401            8            2013-04-17\n",
       "403            8            2013-04-17\n",
       "404            8            2013-04-17\n",
       "                               ...    \n",
       "902            856          2016-10-19\n",
       "224            856          2016-10-19\n",
       "908            856          2016-10-19\n",
       "362            856          2016-10-19\n",
       "447            856          2016-10-19\n",
       "Name: date, Length: 98174, dtype: object"
      ]
     },
     "execution_count": 90,
     "metadata": {},
     "output_type": "execute_result"
    }
   ],
   "source": [
    "df_votes['date']\n",
    "#10/12/2013 - 10/12/2015\n",
    "\n",
    "# 2013-04-17 - 2016-07-01\n",
    "# 2013-04-17 - 2016-10-19"
   ]
  },
  {
   "cell_type": "code",
   "execution_count": 91,
   "metadata": {
    "collapsed": false
   },
   "outputs": [],
   "source": [
    "s = df_votes['partido'].value_counts()\n",
    "df_party_counts = pd.DataFrame(df_votes['partido'].value_counts()).reset_index()\n",
    "df_party_counts.columns = ['party', 'count']\n",
    "df_party_counts.to_csv('data/party-count.csv')"
   ]
  },
  {
   "cell_type": "code",
   "execution_count": 92,
   "metadata": {
    "collapsed": false
   },
   "outputs": [],
   "source": [
    "# Vemos el data frame\n",
    "# df_votes"
   ]
  },
  {
   "cell_type": "code",
   "execution_count": 93,
   "metadata": {
    "collapsed": false
   },
   "outputs": [
    {
     "name": "stdout",
     "output_type": "stream",
     "text": [
      "Total number of sessions:\n",
      "405\n"
     ]
    }
   ],
   "source": [
    "print('Total number of sessions:')\n",
    "print(len(df_votes.reset_index()['sesion_id'].value_counts()))"
   ]
  },
  {
   "cell_type": "code",
   "execution_count": 94,
   "metadata": {
    "collapsed": false
   },
   "outputs": [
    {
     "name": "stdout",
     "output_type": "stream",
     "text": [
      "Total number of legislators:\n",
      "648\n"
     ]
    }
   ],
   "source": [
    "print('Total number of legislators:')\n",
    "print(len(df_votes.reset_index()['legislador_id'].value_counts()))"
   ]
  },
  {
   "cell_type": "code",
   "execution_count": 95,
   "metadata": {
    "collapsed": false
   },
   "outputs": [
    {
     "data": {
      "text/plain": [
       "98174"
      ]
     },
     "execution_count": 95,
     "metadata": {},
     "output_type": "execute_result"
    }
   ],
   "source": [
    "len(df_votes)"
   ]
  },
  {
   "cell_type": "code",
   "execution_count": 96,
   "metadata": {
    "collapsed": false
   },
   "outputs": [],
   "source": [
    "df_votes.to_csv('data/votes.csv')"
   ]
  },
  {
   "cell_type": "code",
   "execution_count": 97,
   "metadata": {
    "collapsed": false
   },
   "outputs": [
    {
     "name": "stdout",
     "output_type": "stream",
     "text": [
      "1201\n",
      "648\n"
     ]
    }
   ],
   "source": [
    "df_member_profile = df_votes.reset_index()[['legislador_id', 'agrupacion', 'agrupacion_color', 'camara', 'mail', 'nombre', 'partido']].drop_duplicates()\n",
    "print(len(df_member_profile))\n",
    "df_member_profile = df_member_profile.drop_duplicates('legislador_id')\n",
    "print(len(df_member_profile))\n",
    "df_member_profile.to_csv('data/member-profile.csv')"
   ]
  },
  {
   "cell_type": "code",
   "execution_count": 98,
   "metadata": {
    "collapsed": false
   },
   "outputs": [
    {
     "data": {
      "text/html": [
       "<div>\n",
       "<style scoped>\n",
       "    .dataframe tbody tr th:only-of-type {\n",
       "        vertical-align: middle;\n",
       "    }\n",
       "\n",
       "    .dataframe tbody tr th {\n",
       "        vertical-align: top;\n",
       "    }\n",
       "\n",
       "    .dataframe thead th {\n",
       "        text-align: right;\n",
       "    }\n",
       "</style>\n",
       "<table border=\"1\" class=\"dataframe\">\n",
       "  <thead>\n",
       "    <tr style=\"text-align: right;\">\n",
       "      <th></th>\n",
       "      <th>legislador_id</th>\n",
       "      <th>agrupacion</th>\n",
       "      <th>agrupacion_color</th>\n",
       "      <th>camara</th>\n",
       "      <th>mail</th>\n",
       "      <th>nombre</th>\n",
       "      <th>partido</th>\n",
       "    </tr>\n",
       "  </thead>\n",
       "  <tbody>\n",
       "    <tr>\n",
       "      <th>47958</th>\n",
       "      <td>738</td>\n",
       "      <td>Massismo y aliados</td>\n",
       "      <td>#b185b7</td>\n",
       "      <td>diputados</td>\n",
       "      <td>mtundis@diputados.gob.ar</td>\n",
       "      <td>TUNDIS,  MIRTA</td>\n",
       "      <td>FRENTE RENOVADOR</td>\n",
       "    </tr>\n",
       "  </tbody>\n",
       "</table>\n",
       "</div>"
      ],
      "text/plain": [
       "       legislador_id          agrupacion agrupacion_color     camara  \\\n",
       "47958            738  Massismo y aliados          #b185b7  diputados   \n",
       "\n",
       "                           mail          nombre           partido  \n",
       "47958  mtundis@diputados.gob.ar  TUNDIS,  MIRTA  FRENTE RENOVADOR  "
      ]
     },
     "execution_count": 98,
     "metadata": {},
     "output_type": "execute_result"
    }
   ],
   "source": [
    "df_member_profile[\n",
    "    df_member_profile['legislador_id'] == 738\n",
    "]"
   ]
  },
  {
   "cell_type": "code",
   "execution_count": 99,
   "metadata": {
    "collapsed": false
   },
   "outputs": [],
   "source": [
    "# df_member_profile.set_index('legislador_id').ix[738]"
   ]
  },
  {
   "cell_type": "code",
   "execution_count": 101,
   "metadata": {
    "collapsed": false
   },
   "outputs": [],
   "source": [
    "df_selected_votes = df_votes[\n",
    "    # Me quedo con las sesiones desde 2014\n",
    "    (df_votes['date'] >= date(2013, 12, 12))\n",
    "    &\n",
    "    # hasta 2020\n",
    "    (df_votes['date'] <= date(2020, 12, 12))\n",
    "]"
   ]
  },
  {
   "cell_type": "code",
   "execution_count": 102,
   "metadata": {
    "collapsed": false
   },
   "outputs": [
    {
     "data": {
      "text/plain": [
       "48251"
      ]
     },
     "execution_count": 102,
     "metadata": {},
     "output_type": "execute_result"
    }
   ],
   "source": [
    "len(df_selected_votes)"
   ]
  },
  {
   "cell_type": "code",
   "execution_count": 103,
   "metadata": {
    "collapsed": false
   },
   "outputs": [],
   "source": [
    "df_votes_brief = df_selected_votes[['voto', 'vote-value']]"
   ]
  },
  {
   "cell_type": "code",
   "execution_count": 104,
   "metadata": {
    "collapsed": false
   },
   "outputs": [
    {
     "data": {
      "text/plain": [
       "AFIRMATIVO    33403\n",
       "AUSENTE        9948\n",
       "NEGATIVO       3784\n",
       "ABSTENCION     1116\n",
       "Name: voto, dtype: int64"
      ]
     },
     "execution_count": 104,
     "metadata": {},
     "output_type": "execute_result"
    }
   ],
   "source": [
    "df_votes_brief['voto'].value_counts()"
   ]
  },
  {
   "cell_type": "code",
   "execution_count": 105,
   "metadata": {
    "collapsed": false
   },
   "outputs": [],
   "source": [
    "df_matrix = df_votes_brief.reset_index().pivot(index='legislador_id', columns='sesion_id', values='vote-value')"
   ]
  },
  {
   "cell_type": "code",
   "execution_count": 106,
   "metadata": {
    "collapsed": false
   },
   "outputs": [],
   "source": [
    "df_matrix = df_matrix.fillna(0)"
   ]
  },
  {
   "cell_type": "code",
   "execution_count": 107,
   "metadata": {
    "collapsed": false
   },
   "outputs": [],
   "source": [
    "df_matrix.to_csv('data/matrix-2013-2015.csv')"
   ]
  },
  {
   "cell_type": "code",
   "execution_count": 108,
   "metadata": {
    "collapsed": false
   },
   "outputs": [
    {
     "data": {
      "text/plain": [
       "(461, 210)"
      ]
     },
     "execution_count": 108,
     "metadata": {},
     "output_type": "execute_result"
    }
   ],
   "source": [
    "df_matrix.shape"
   ]
  },
  {
   "cell_type": "markdown",
   "metadata": {},
   "source": [
    "#### Componentes princiaples"
   ]
  },
  {
   "cell_type": "code",
   "execution_count": 109,
   "metadata": {
    "collapsed": true
   },
   "outputs": [],
   "source": [
    "# X = np.matrix(df_matrix.fillna(0).as_matrix()).astype('int8')\n",
    "# X = np.matrix.astype('int8')\n",
    "# X = np.matrix\n",
    "X = np.matrix(df_matrix.fillna(0).astype('int8'))"
   ]
  },
  {
   "cell_type": "code",
   "execution_count": 110,
   "metadata": {
    "collapsed": true
   },
   "outputs": [],
   "source": [
    "from sklearn.decomposition import PCA\n",
    "pca = PCA(n_components=3)\n",
    "X_reduced = pca.fit_transform(X)\n",
    "df_pc = pd.DataFrame(X_reduced, index=df_matrix.index, columns=['PC1', 'PC2', 'PC3'])"
   ]
  },
  {
   "cell_type": "code",
   "execution_count": 111,
   "metadata": {
    "collapsed": false
   },
   "outputs": [
    {
     "data": {
      "text/plain": [
       "array([23.56844129,  9.22874008,  5.43217777])"
      ]
     },
     "execution_count": 111,
     "metadata": {},
     "output_type": "execute_result"
    }
   ],
   "source": [
    "pca.explained_variance_"
   ]
  },
  {
   "cell_type": "markdown",
   "metadata": {},
   "source": [
    "Watch out:\n",
    "* The explained variance by PC1 to PC3 is very small in this data set\n",
    "* The data set is highly non-linear"
   ]
  },
  {
   "cell_type": "code",
   "execution_count": 112,
   "metadata": {
    "collapsed": false
   },
   "outputs": [
    {
     "data": {
      "text/plain": [
       "<AxesSubplot:xlabel='PC1', ylabel='PC2'>"
      ]
     },
     "execution_count": 112,
     "metadata": {},
     "output_type": "execute_result"
    },
    {
     "data": {
      "image/png": "[encoded data removed]",
      "text/plain": [
       "<Figure size 432x288 with 1 Axes>"
      ]
     },
     "metadata": {
      "needs_background": "light"
     },
     "output_type": "display_data"
    }
   ],
   "source": [
    "%matplotlib inline\n",
    "df_pc[['PC1', 'PC2']].plot(x='PC1', y='PC2', kind='scatter')"
   ]
  },
  {
   "cell_type": "code",
   "execution_count": 113,
   "metadata": {
    "collapsed": true
   },
   "outputs": [],
   "source": [
    "df_party_count_color = pd.read_csv('data/party-count-color.csv')"
   ]
  },
  {
   "cell_type": "code",
   "execution_count": 114,
   "metadata": {
    "collapsed": false
   },
   "outputs": [
    {
     "data": {
      "text/plain": [
       "461"
      ]
     },
     "execution_count": 114,
     "metadata": {},
     "output_type": "execute_result"
    }
   ],
   "source": [
    "len(df_pc)"
   ]
  },
  {
   "cell_type": "code",
   "execution_count": 115,
   "metadata": {
    "collapsed": false
   },
   "outputs": [
    {
     "data": {
      "text/plain": [
       "648"
      ]
     },
     "execution_count": 115,
     "metadata": {},
     "output_type": "execute_result"
    }
   ],
   "source": [
    "len(df_member_profile)"
   ]
  },
  {
   "cell_type": "code",
   "execution_count": 116,
   "metadata": {
    "collapsed": false
   },
   "outputs": [],
   "source": [
    "df_pc_member = pd.merge(df_pc.reset_index(), df_member_profile, how='left',\n",
    "                        left_on='legislador_id', right_on='legislador_id')"
   ]
  },
  {
   "cell_type": "code",
   "execution_count": 117,
   "metadata": {
    "collapsed": false
   },
   "outputs": [
    {
     "data": {
      "text/plain": [
       "461"
      ]
     },
     "execution_count": 117,
     "metadata": {},
     "output_type": "execute_result"
    }
   ],
   "source": [
    "len(df_pc_member)"
   ]
  },
  {
   "cell_type": "code",
   "execution_count": 118,
   "metadata": {
    "collapsed": false
   },
   "outputs": [
    {
     "data": {
      "text/plain": [
       "461"
      ]
     },
     "execution_count": 118,
     "metadata": {},
     "output_type": "execute_result"
    }
   ],
   "source": [
    "len(df_pc)"
   ]
  },
  {
   "cell_type": "code",
   "execution_count": 119,
   "metadata": {
    "collapsed": false
   },
   "outputs": [
    {
     "data": {
      "text/plain": [
       "<matplotlib.collections.PathCollection at 0x16c00b26fd0>"
      ]
     },
     "execution_count": 119,
     "metadata": {},
     "output_type": "execute_result"
    },
    {
     "data": {
      "image/png": "[encoded data removed]",
      "text/plain": [
       "<Figure size 432x288 with 1 Axes>"
      ]
     },
     "metadata": {
      "needs_background": "light"
     },
     "output_type": "display_data"
    }
   ],
   "source": [
    "plt.scatter(1, 2)\n",
    "plt.scatter(2, 3)"
   ]
  },
  {
   "cell_type": "code",
   "execution_count": 120,
   "metadata": {
    "collapsed": false
   },
   "outputs": [
    {
     "name": "stdout",
     "output_type": "stream",
     "text": [
      "('', '')\n",
      "('Cambiemos', '#FEDB30')\n",
      "('Izquierda', '#D23939')\n",
      "('Kirchnerismo y aliados', '#A5D4E5')\n",
      "('Kirchnerismo y aliados..', '#007caf')\n",
      "('Kirchnerismo/PJ', '#A5D4E5')\n",
      "('Massismo y aliados', '#b185b7')\n",
      "('Otros', '#A6A6A6')\n",
      "('PJ ', '#A05F11')\n",
      "('Peronismo no kirchnerista', '#f6a619')\n",
      "('Pro y aliados', '#fbd95b')\n",
      "('Progresismo', '#CECA7A')\n",
      "('UNEN - FAP - UCR', '#8eab35')\n"
     ]
    },
    {
     "data": {
      "text/plain": [
       "Text(0, 0.5, 'PC2')"
      ]
     },
     "execution_count": 120,
     "metadata": {},
     "output_type": "execute_result"
    },
    {
     "data": {
      "image/png": "[encoded data removed]",
      "text/plain": [
       "<Figure size 864x432 with 1 Axes>"
      ]
     },
     "metadata": {
      "needs_background": "light"
     },
     "output_type": "display_data"
    }
   ],
   "source": [
    "plt.figure(figsize=(12, 6))\n",
    "ax = plt.subplot(1, 1, 1)\n",
    "from matplotlib.colors import ColorConverter\n",
    "\n",
    "'''\n",
    "for (i, m) in df_pc_member.iterrows():\n",
    "    #print(m['PC1'])\n",
    "    ax.scatter(m['PC1'], m['PC2'], color=m['_color'])\n",
    "    #print(m)\n",
    "'''\n",
    "\n",
    "for (gname, group) in df_pc_member.groupby(['agrupacion', 'agrupacion_color']):\n",
    "    print(gname)\n",
    "    if gname == ('', ''):\n",
    "        gname = ('null', '#000000')\n",
    "    ax.scatter(group['PC1'], group['PC2'], color=gname[1], label=gname[0])\n",
    "\n",
    "plt.legend(loc='upper left')\n",
    "plt.xlabel('PC1')\n",
    "plt.ylabel('PC2')\n",
    "\n",
    "#df_pc[['PC1', 'PC2']].plot(x='PC1', y='PC2', kind='scatter')"
   ]
  },
  {
   "cell_type": "code",
   "execution_count": 121,
   "metadata": {
    "collapsed": false
   },
   "outputs": [
    {
     "name": "stdout",
     "output_type": "stream",
     "text": [
      "('', '')\n",
      "('Cambiemos', '#FEDB30')\n",
      "('Izquierda', '#D23939')\n",
      "('Kirchnerismo y aliados', '#A5D4E5')\n",
      "('Kirchnerismo y aliados..', '#007caf')\n",
      "('Kirchnerismo/PJ', '#A5D4E5')\n",
      "('Massismo y aliados', '#b185b7')\n",
      "('Otros', '#A6A6A6')\n",
      "('PJ ', '#A05F11')\n",
      "('Peronismo no kirchnerista', '#f6a619')\n",
      "('Pro y aliados', '#fbd95b')\n",
      "('Progresismo', '#CECA7A')\n",
      "('UNEN - FAP - UCR', '#8eab35')\n"
     ]
    },
    {
     "data": {
      "text/plain": [
       "Text(0, 0.5, 'PC2')"
      ]
     },
     "execution_count": 121,
     "metadata": {},
     "output_type": "execute_result"
    },
    {
     "data": {
      "image/png": "[encoded data removed]",
      "text/plain": [
       "<Figure size 864x432 with 1 Axes>"
      ]
     },
     "metadata": {
      "needs_background": "light"
     },
     "output_type": "display_data"
    }
   ],
   "source": [
    "%matplotlib inline\n",
    "\n",
    "plt.figure(figsize=(12, 6))\n",
    "ax = plt.subplot(1, 1, 1)\n",
    "from matplotlib.colors import ColorConverter\n",
    "\n",
    "'''\n",
    "for (i, m) in df_pc_member.iterrows():\n",
    "    #print(m['PC1'])\n",
    "    ax.scatter(m['PC1'], m['PC2'], color=m['_color'])\n",
    "    #print(m)\n",
    "'''\n",
    "\n",
    "for (gname, group) in df_pc_member.groupby(['agrupacion', 'agrupacion_color']):\n",
    "    print(gname)\n",
    "    if gname == ('', ''):\n",
    "        gname = ('null', '#000000')\n",
    "    ax.scatter(group['PC1'], [0] * len(group['PC1']), color=gname[1], label=gname[0])\n",
    "\n",
    "plt.legend(loc='upper left')\n",
    "plt.xlabel('PC1')\n",
    "plt.ylabel('PC2')\n",
    "\n",
    "#df_pc[['PC1', 'PC2']].plot(x='PC1', y='PC2', kind='scatter')"
   ]
  },
  {
   "cell_type": "code",
   "execution_count": 122,
   "metadata": {
    "collapsed": false
   },
   "outputs": [
    {
     "data": {
      "text/plain": [
       "133420"
      ]
     },
     "execution_count": 122,
     "metadata": {},
     "output_type": "execute_result"
    }
   ],
   "source": [
    "df_pc_member['legislador_id'] = df_pc_member['legislador_id'].apply(lambda x: str(x))\n",
    "open('data/pc-member-3d.json', 'w').write(json.dumps(\n",
    "    df_pc_member.set_index('legislador_id').T.to_dict()\n",
    "    ))"
   ]
  },
  {
   "cell_type": "code",
   "execution_count": 123,
   "metadata": {
    "collapsed": false
   },
   "outputs": [
    {
     "data": {
      "text/html": [
       "<div>\n",
       "<style scoped>\n",
       "    .dataframe tbody tr th:only-of-type {\n",
       "        vertical-align: middle;\n",
       "    }\n",
       "\n",
       "    .dataframe tbody tr th {\n",
       "        vertical-align: top;\n",
       "    }\n",
       "\n",
       "    .dataframe thead th {\n",
       "        text-align: right;\n",
       "    }\n",
       "</style>\n",
       "<table border=\"1\" class=\"dataframe\">\n",
       "  <thead>\n",
       "    <tr style=\"text-align: right;\">\n",
       "      <th></th>\n",
       "      <th>legislador_id</th>\n",
       "      <th>PC1</th>\n",
       "      <th>PC2</th>\n",
       "      <th>PC3</th>\n",
       "      <th>agrupacion</th>\n",
       "      <th>agrupacion_color</th>\n",
       "      <th>camara</th>\n",
       "      <th>mail</th>\n",
       "      <th>nombre</th>\n",
       "      <th>partido</th>\n",
       "    </tr>\n",
       "  </thead>\n",
       "  <tbody>\n",
       "    <tr>\n",
       "      <th>0</th>\n",
       "      <td>1</td>\n",
       "      <td>1.452397</td>\n",
       "      <td>-0.847793</td>\n",
       "      <td>-2.502009</td>\n",
       "      <td>Kirchnerismo y aliados..</td>\n",
       "      <td>#007caf</td>\n",
       "      <td>diputados</td>\n",
       "      <td>nabdaladem@diputados.gob.ar</td>\n",
       "      <td>Abdala de Matarazzo,  Norma Amanda</td>\n",
       "      <td>FRENTE CÍVICO POR SANTIAGO</td>\n",
       "    </tr>\n",
       "    <tr>\n",
       "      <th>1</th>\n",
       "      <td>8</td>\n",
       "      <td>-2.542766</td>\n",
       "      <td>3.320281</td>\n",
       "      <td>2.589115</td>\n",
       "      <td>UNEN - FAP - UCR</td>\n",
       "      <td>#8eab35</td>\n",
       "      <td>diputados</td>\n",
       "      <td>oaguad@diputados.gob.ar</td>\n",
       "      <td>Aguad,  Oscar Raúl</td>\n",
       "      <td>UNIÓN CÍVICA RADICAL</td>\n",
       "    </tr>\n",
       "    <tr>\n",
       "      <th>2</th>\n",
       "      <td>10</td>\n",
       "      <td>0.007738</td>\n",
       "      <td>3.954861</td>\n",
       "      <td>2.537448</td>\n",
       "      <td>Peronismo no kirchnerista</td>\n",
       "      <td>#f6a619</td>\n",
       "      <td>diputados</td>\n",
       "      <td>laguilar@diputados.gob.ar</td>\n",
       "      <td>AGUILAR,  Lino Walter</td>\n",
       "      <td>FRENTE PERONISTA</td>\n",
       "    </tr>\n",
       "    <tr>\n",
       "      <th>3</th>\n",
       "      <td>11</td>\n",
       "      <td>-3.817941</td>\n",
       "      <td>-2.914577</td>\n",
       "      <td>3.033830</td>\n",
       "      <td></td>\n",
       "      <td></td>\n",
       "      <td>diputados</td>\n",
       "      <td>hilda.aguirre@senado.gov.ar</td>\n",
       "      <td>AGUIRRE.,  Hilda Clelia</td>\n",
       "      <td></td>\n",
       "    </tr>\n",
       "    <tr>\n",
       "      <th>4</th>\n",
       "      <td>19</td>\n",
       "      <td>-1.508608</td>\n",
       "      <td>5.643373</td>\n",
       "      <td>-1.628710</td>\n",
       "      <td>UNEN - FAP - UCR</td>\n",
       "      <td>#8eab35</td>\n",
       "      <td>diputados</td>\n",
       "      <td>ralfonsin@diputados.gob.ar</td>\n",
       "      <td>ALFONSÍN,  Ricardo Luis</td>\n",
       "      <td>UNIÓN CÍVICA RADICAL</td>\n",
       "    </tr>\n",
       "    <tr>\n",
       "      <th>...</th>\n",
       "      <td>...</td>\n",
       "      <td>...</td>\n",
       "      <td>...</td>\n",
       "      <td>...</td>\n",
       "      <td>...</td>\n",
       "      <td>...</td>\n",
       "      <td>...</td>\n",
       "      <td>...</td>\n",
       "      <td>...</td>\n",
       "      <td>...</td>\n",
       "    </tr>\n",
       "    <tr>\n",
       "      <th>456</th>\n",
       "      <td>1234</td>\n",
       "      <td>-0.815193</td>\n",
       "      <td>5.475700</td>\n",
       "      <td>-1.657129</td>\n",
       "      <td>UNEN - FAP - UCR</td>\n",
       "      <td>#8eab35</td>\n",
       "      <td>diputados</td>\n",
       "      <td>mscarrizo@diputados.gob.ar</td>\n",
       "      <td>Carrizo,  Soledad</td>\n",
       "      <td></td>\n",
       "    </tr>\n",
       "    <tr>\n",
       "      <th>457</th>\n",
       "      <td>1267</td>\n",
       "      <td>-3.534979</td>\n",
       "      <td>-2.276068</td>\n",
       "      <td>-0.928917</td>\n",
       "      <td></td>\n",
       "      <td></td>\n",
       "      <td>diputados</td>\n",
       "      <td>dmartinez@diputados.gob.ar</td>\n",
       "      <td>MartÍNez,  DaríO</td>\n",
       "      <td></td>\n",
       "    </tr>\n",
       "    <tr>\n",
       "      <th>458</th>\n",
       "      <td>1317</td>\n",
       "      <td>-0.613899</td>\n",
       "      <td>7.040728</td>\n",
       "      <td>3.073829</td>\n",
       "      <td>UNEN - FAP - UCR</td>\n",
       "      <td>#8eab35</td>\n",
       "      <td>diputados</td>\n",
       "      <td>mfiad@diputados.gob.ar</td>\n",
       "      <td>Fiad,  Mario R.</td>\n",
       "      <td>UNIÓN CÍVICA RADICAL</td>\n",
       "    </tr>\n",
       "    <tr>\n",
       "      <th>459</th>\n",
       "      <td>1320</td>\n",
       "      <td>-1.134964</td>\n",
       "      <td>4.850990</td>\n",
       "      <td>2.738385</td>\n",
       "      <td>UNEN - FAP - UCR</td>\n",
       "      <td>#8eab35</td>\n",
       "      <td>diputados</td>\n",
       "      <td>jmartinez@diputados.gob.ar</td>\n",
       "      <td>MartÍNez,  Julio</td>\n",
       "      <td>UNIÓN CÍVICA RADICAL</td>\n",
       "    </tr>\n",
       "    <tr>\n",
       "      <th>460</th>\n",
       "      <td>1326</td>\n",
       "      <td>8.227216</td>\n",
       "      <td>-0.701109</td>\n",
       "      <td>1.114745</td>\n",
       "      <td>Kirchnerismo y aliados..</td>\n",
       "      <td>#007caf</td>\n",
       "      <td>diputados</td>\n",
       "      <td>junac@diputados.gob.ar</td>\n",
       "      <td>UÑAc,  JosÉ RubÉN.</td>\n",
       "      <td>FRENTE PARA LA VICTORIA</td>\n",
       "    </tr>\n",
       "  </tbody>\n",
       "</table>\n",
       "<p>461 rows × 10 columns</p>\n",
       "</div>"
      ],
      "text/plain": [
       "    legislador_id       PC1       PC2       PC3                 agrupacion  \\\n",
       "0               1  1.452397 -0.847793 -2.502009   Kirchnerismo y aliados..   \n",
       "1               8 -2.542766  3.320281  2.589115           UNEN - FAP - UCR   \n",
       "2              10  0.007738  3.954861  2.537448  Peronismo no kirchnerista   \n",
       "3              11 -3.817941 -2.914577  3.033830                              \n",
       "4              19 -1.508608  5.643373 -1.628710           UNEN - FAP - UCR   \n",
       "..            ...       ...       ...       ...                        ...   \n",
       "456          1234 -0.815193  5.475700 -1.657129           UNEN - FAP - UCR   \n",
       "457          1267 -3.534979 -2.276068 -0.928917                              \n",
       "458          1317 -0.613899  7.040728  3.073829           UNEN - FAP - UCR   \n",
       "459          1320 -1.134964  4.850990  2.738385           UNEN - FAP - UCR   \n",
       "460          1326  8.227216 -0.701109  1.114745   Kirchnerismo y aliados..   \n",
       "\n",
       "    agrupacion_color     camara                          mail  \\\n",
       "0            #007caf  diputados   nabdaladem@diputados.gob.ar   \n",
       "1            #8eab35  diputados       oaguad@diputados.gob.ar   \n",
       "2            #f6a619  diputados     laguilar@diputados.gob.ar   \n",
       "3                     diputados  hilda.aguirre@senado.gov.ar    \n",
       "4            #8eab35  diputados    ralfonsin@diputados.gob.ar   \n",
       "..               ...        ...                           ...   \n",
       "456          #8eab35  diputados    mscarrizo@diputados.gob.ar   \n",
       "457                   diputados    dmartinez@diputados.gob.ar   \n",
       "458          #8eab35  diputados        mfiad@diputados.gob.ar   \n",
       "459          #8eab35  diputados    jmartinez@diputados.gob.ar   \n",
       "460          #007caf  diputados        junac@diputados.gob.ar   \n",
       "\n",
       "                                 nombre                     partido  \n",
       "0    Abdala de Matarazzo,  Norma Amanda  FRENTE CÍVICO POR SANTIAGO  \n",
       "1                    Aguad,  Oscar Raúl        UNIÓN CÍVICA RADICAL  \n",
       "2                 AGUILAR,  Lino Walter            FRENTE PERONISTA  \n",
       "3               AGUIRRE.,  Hilda Clelia                              \n",
       "4               ALFONSÍN,  Ricardo Luis        UNIÓN CÍVICA RADICAL  \n",
       "..                                  ...                         ...  \n",
       "456                   Carrizo,  Soledad                              \n",
       "457                    MartÍNez,  DaríO                              \n",
       "458                     Fiad,  Mario R.        UNIÓN CÍVICA RADICAL  \n",
       "459                    MartÍNez,  Julio        UNIÓN CÍVICA RADICAL  \n",
       "460                  UÑAc,  JosÉ RubÉN.     FRENTE PARA LA VICTORIA  \n",
       "\n",
       "[461 rows x 10 columns]"
      ]
     },
     "execution_count": 123,
     "metadata": {},
     "output_type": "execute_result"
    }
   ],
   "source": [
    "df_pc_member"
   ]
  },
  {
   "cell_type": "code",
   "execution_count": 124,
   "metadata": {
    "collapsed": false
   },
   "outputs": [
    {
     "name": "stdout",
     "output_type": "stream",
     "text": [
      "('', '')\n",
      "('Cambiemos', '#FEDB30')\n",
      "('Izquierda', '#D23939')\n",
      "('Kirchnerismo y aliados', '#A5D4E5')\n",
      "('Kirchnerismo y aliados..', '#007caf')\n",
      "('Kirchnerismo/PJ', '#A5D4E5')\n",
      "('Massismo y aliados', '#b185b7')\n",
      "('Otros', '#A6A6A6')\n",
      "('PJ ', '#A05F11')\n",
      "('Peronismo no kirchnerista', '#f6a619')\n",
      "('Pro y aliados', '#fbd95b')\n",
      "('Progresismo', '#CECA7A')\n",
      "('UNEN - FAP - UCR', '#8eab35')\n"
     ]
    },
    {
     "data": {
      "text/plain": [
       "8"
      ]
     },
     "execution_count": 124,
     "metadata": {},
     "output_type": "execute_result"
    },
    {
     "data": {
      "image/png": "[encoded data removed]",
      "text/plain": [
       "<Figure size 432x288 with 1 Axes>"
      ]
     },
     "metadata": {
      "needs_background": "light"
     },
     "output_type": "display_data"
    }
   ],
   "source": [
    "%matplotlib inline\n",
    "\n",
    "x = np.array(X_reduced.T[0, :]).astype('float')\n",
    "y = np.array(X_reduced.T[1, :]).astype('float')\n",
    "z = np.array(X_reduced.T[2, :]).astype('float')\n",
    "\n",
    "from mpl_toolkits.mplot3d import Axes3D\n",
    "fig = plt.figure()\n",
    "ax = fig.add_subplot(111, projection='3d')\n",
    "for (gname, group) in df_pc_member.groupby(['agrupacion', 'agrupacion_color']):\n",
    "    print(gname)\n",
    "    if gname == ('', ''):\n",
    "        gname = ('null', '#000000')\n",
    "    ax.scatter(group['PC1'], group['PC2'], group['PC3'], color=gname[1], label=gname[0])\n",
    "#ax.scatter(x, y, z, picker=True, s=100)\n",
    "\n",
    "def onpick(X_3D, event):\n",
    "    #print(event)\n",
    "    if hasattr(onpick, '_label'):\n",
    "        #pass\n",
    "        onpick._label.remove()\n",
    "    thisline = event.artist\n",
    "    ind = event.ind\n",
    "    #print(type(ind))\n",
    "    #print(X_3D[0, ind])\n",
    "    names = df_matrix.iloc[ind].index.values\n",
    "    #print(names)\n",
    "    label = ('\\n'.join(names))\n",
    "    pos = (X_3D[0, ind[0]], X_3D[1, ind[0]], X_3D[2, ind[0]])\n",
    "    #onpick._label = ax.set_title(label\n",
    "    onpick._label = ax.text(*pos, s=label)\n",
    "    fig.canvas.draw()\n",
    "    \n",
    "fig.canvas.mpl_connect('pick_event', lambda e: onpick(X_reduced.T, e))"
   ]
  }
 ],
 "metadata": {
  "kernelspec": {
   "display_name": "Python 3",
   "language": "python",
   "name": "python3"
  },
  "language_info": {
   "codemirror_mode": {
    "name": "ipython",
    "version": 3
   },
   "file_extension": ".py",
   "mimetype": "text/x-python",
   "name": "python",
   "nbconvert_exporter": "python",
   "pygments_lexer": "ipython3",
   "version": "3.8.8"
  }
 },
 "nbformat": 4,
 "nbformat_minor": 0
}
