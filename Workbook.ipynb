{
 "cells": [
  {
   "cell_type": "markdown",
   "metadata": {},
   "source": [
    "# Trabajo Final - Econometría Espacial\n",
    "## Propuesta de investigación: análisis espacial del discurso de los senadores nacionales durante la sesión extraordinaria en la que se debatía la interrupción voluntaria del embarazo\n",
    "### Parte 2 del trabajo:\n",
    "Ubicación de los senadores dentro del espectro político utilizando componentes princiaples a partir de las votaciones pasadas."
   ]
  },
  {
   "cell_type": "code",
   "execution_count": 3,
   "metadata": {
    "collapsed": false
   },
   "outputs": [],
   "source": [
    "# Paquetes:\n",
    "from IPython.core.display import HTML\n",
    "import requests\n",
    "import pandas as pd\n",
    "import numpy as np\n",
    "import matplotlib\n",
    "from matplotlib import pyplot as plt\n",
    "import datetime\n",
    "import seaborn as sns\n",
    "from dateutil import parser\n",
    "import pytz\n",
    "import pylab as pl\n",
    "# %pip install pyquery\n",
    "from pyquery import PyQuery as pq\n",
    "import numpy as np\n",
    "import scipy\n",
    "import pandas as pd\n",
    "from lxml import etree\n",
    "import os\n",
    "from os import path\n",
    "from pprint import pprint\n",
    "import dateutil\n",
    "import json\n",
    "%matplotlib inline"
   ]
  },
  {
   "cell_type": "code",
   "execution_count": 77,
   "metadata": {
    "collapsed": true
   },
   "outputs": [],
   "source": [
    "# Este bloque de código va cambiando el número del final de la URL y va extrayendo la data\n",
    "# URL: http://votaciones.lanacion.com.ar/api/votacion/637\n",
    "# Tarda 5 minutos aprox\n",
    "\n",
    "all_motions_json = []\n",
    "# for i in range(1, 637+1):\n",
    "for i in range(1, 998+1):\n",
    "    try:\n",
    "        j = json.load(open('jsons/%s.json' % i))\n",
    "        all_motions_json.append(j)\n",
    "    except:\n",
    "        pass"
   ]
  },
  {
   "cell_type": "code",
   "execution_count": 78,
   "metadata": {
    "collapsed": false
   },
   "outputs": [
    {
     "data": {
      "text/plain": [
       "'01/07/2016'"
      ]
     },
     "execution_count": 78,
     "metadata": {},
     "output_type": "execute_result"
    }
   ],
   "source": [
    "j['fecha']\n",
    "# '01/07/2016'"
   ]
  },
  {
   "cell_type": "code",
   "execution_count": 79,
   "metadata": {
    "collapsed": false
   },
   "outputs": [],
   "source": [
    "s_votes = []\n",
    "\n",
    "for m in all_motions_json:\n",
    "    v = m['votos']\n",
    "    s = pd.DataFrame(v)\n",
    "    s['sesion_id'] = m['sesion_id']\n",
    "    s['datestr'] = m['fecha']\n",
    "    s = s.set_index(['legislador_id', 'sesion_id'])\n",
    "    s_votes.append(s)"
   ]
  },
  {
   "cell_type": "code",
   "execution_count": 80,
   "metadata": {
    "collapsed": false
   },
   "outputs": [],
   "source": [
    "df_votes = pd.concat(s_votes)"
   ]
  },
  {
   "cell_type": "code",
   "execution_count": 81,
   "metadata": {
    "collapsed": false
   },
   "outputs": [],
   "source": [
    "# Este bloque de código asigna a cada voto (string) un valor\n",
    "def vote_to_number(v):\n",
    "    MAPPING = {\n",
    "        'AFIRMATIVO': 1, # Yes\n",
    "        'AUSENTE': 0, # Absent, did not come to the session\n",
    "        'NEGATIVO': -1, # No\n",
    "        'ABSTENCION': 0, # person is present, but not vote\n",
    "    }\n",
    "    return MAPPING.get(v, 0)\n",
    "    \n",
    "df_votes['vote-value'] = df_votes['voto'].apply(vote_to_number)"
   ]
  },
  {
   "cell_type": "code",
   "execution_count": 82,
   "metadata": {
    "collapsed": false
   },
   "outputs": [],
   "source": [
    "from datetime import date\n",
    "\n",
    "df_votes['date'] = df_votes['datestr'].apply(lambda x: date(\n",
    "        int(x.split('/')[2]), \n",
    "        int(x.split('/')[1]), \n",
    "        int(x.split('/')[0])\n",
    "    ))\n",
    "df_votes['datetime'] = df_votes['date'].apply(lambda d: datetime.datetime(*d.timetuple()[:7]))"
   ]
  },
  {
   "cell_type": "code",
   "execution_count": 83,
   "metadata": {
    "collapsed": false
   },
   "outputs": [
    {
     "data": {
      "text/plain": [
       "legislador_id  sesion_id\n",
       "288            8            2013-04-17\n",
       "395            8            2013-04-17\n",
       "401            8            2013-04-17\n",
       "403            8            2013-04-17\n",
       "404            8            2013-04-17\n",
       "                               ...    \n",
       "778            637          2016-07-01\n",
       "889            637          2016-07-01\n",
       "156            637          2016-07-01\n",
       "776            637          2016-07-01\n",
       "679            637          2016-07-01\n",
       "Name: date, Length: 93330, dtype: object"
      ]
     },
     "execution_count": 83,
     "metadata": {},
     "output_type": "execute_result"
    }
   ],
   "source": [
    "df_votes['date']\n",
    "#10/12/2013 - 10/12/2015\n",
    "\n",
    "# 2013-04-17 - 2016-07-01"
   ]
  },
  {
   "cell_type": "code",
   "execution_count": 11,
   "metadata": {
    "collapsed": false
   },
   "outputs": [],
   "source": [
    "s = df_votes['partido'].value_counts()\n",
    "df_party_counts = pd.DataFrame(df_votes['partido'].value_counts()).reset_index()\n",
    "df_party_counts.columns = ['party', 'count']\n",
    "df_party_counts.to_csv('data/party-count.csv')"
   ]
  },
  {
   "cell_type": "code",
   "execution_count": 12,
   "metadata": {
    "collapsed": false
   },
   "outputs": [
    {
     "data": {
      "text/html": [
       "<div>\n",
       "<style scoped>\n",
       "    .dataframe tbody tr th:only-of-type {\n",
       "        vertical-align: middle;\n",
       "    }\n",
       "\n",
       "    .dataframe tbody tr th {\n",
       "        vertical-align: top;\n",
       "    }\n",
       "\n",
       "    .dataframe thead th {\n",
       "        text-align: right;\n",
       "    }\n",
       "</style>\n",
       "<table border=\"1\" class=\"dataframe\">\n",
       "  <thead>\n",
       "    <tr style=\"text-align: right;\">\n",
       "      <th></th>\n",
       "      <th></th>\n",
       "      <th>provincia_id</th>\n",
       "      <th>provincia</th>\n",
       "      <th>mail</th>\n",
       "      <th>partido</th>\n",
       "      <th>photo</th>\n",
       "      <th>twitter</th>\n",
       "      <th>agrupacion</th>\n",
       "      <th>in_ranking</th>\n",
       "      <th>tag_nacion</th>\n",
       "      <th>voto</th>\n",
       "      <th>...</th>\n",
       "      <th>nombre</th>\n",
       "      <th>descripcion</th>\n",
       "      <th>agrupacion_id</th>\n",
       "      <th>camara</th>\n",
       "      <th>presidencia</th>\n",
       "      <th>agrupacion_color</th>\n",
       "      <th>datestr</th>\n",
       "      <th>vote-value</th>\n",
       "      <th>date</th>\n",
       "      <th>datetime</th>\n",
       "    </tr>\n",
       "    <tr>\n",
       "      <th>legislador_id</th>\n",
       "      <th>sesion_id</th>\n",
       "      <th></th>\n",
       "      <th></th>\n",
       "      <th></th>\n",
       "      <th></th>\n",
       "      <th></th>\n",
       "      <th></th>\n",
       "      <th></th>\n",
       "      <th></th>\n",
       "      <th></th>\n",
       "      <th></th>\n",
       "      <th></th>\n",
       "      <th></th>\n",
       "      <th></th>\n",
       "      <th></th>\n",
       "      <th></th>\n",
       "      <th></th>\n",
       "      <th></th>\n",
       "      <th></th>\n",
       "      <th></th>\n",
       "      <th></th>\n",
       "      <th></th>\n",
       "    </tr>\n",
       "  </thead>\n",
       "  <tbody>\n",
       "    <tr>\n",
       "      <th>288</th>\n",
       "      <th>8</th>\n",
       "      <td>20</td>\n",
       "      <td>LA RIOJA</td>\n",
       "      <td>gherrera@diputados.gob.ar</td>\n",
       "      <td>FRENTE PARA LA VICTORIA</td>\n",
       "      <td>/media/photos/Herrera-Griselda-Noemi.jpg</td>\n",
       "      <td>@griherreraok</td>\n",
       "      <td>Kirchnerismo y aliados</td>\n",
       "      <td>1</td>\n",
       "      <td></td>\n",
       "      <td>AFIRMATIVO</td>\n",
       "      <td>...</td>\n",
       "      <td>HERRERA,  Griselda Noemí</td>\n",
       "      <td></td>\n",
       "      <td>3</td>\n",
       "      <td>diputados</td>\n",
       "      <td>False</td>\n",
       "      <td>#007caf</td>\n",
       "      <td>17/04/2013</td>\n",
       "      <td>1</td>\n",
       "      <td>2013-04-17</td>\n",
       "      <td>2013-04-17 00:00:00.000002</td>\n",
       "    </tr>\n",
       "    <tr>\n",
       "      <th>395</th>\n",
       "      <th>8</th>\n",
       "      <td>4</td>\n",
       "      <td>BUENOS AIRES</td>\n",
       "      <td>cmoreno@diputados.gob.ar</td>\n",
       "      <td>FRENTE PARA LA VICTORIA</td>\n",
       "      <td>/media/photos/Moreno_Carlos_julio.jpg</td>\n",
       "      <td>@julioc_moreno</td>\n",
       "      <td>Kirchnerismo y aliados</td>\n",
       "      <td>1</td>\n",
       "      <td></td>\n",
       "      <td>AFIRMATIVO</td>\n",
       "      <td>...</td>\n",
       "      <td>MORENO,  Carlos Julio</td>\n",
       "      <td></td>\n",
       "      <td>3</td>\n",
       "      <td>diputados</td>\n",
       "      <td>False</td>\n",
       "      <td>#007caf</td>\n",
       "      <td>17/04/2013</td>\n",
       "      <td>1</td>\n",
       "      <td>2013-04-17</td>\n",
       "      <td>2013-04-17 00:00:00.000002</td>\n",
       "    </tr>\n",
       "    <tr>\n",
       "      <th>401</th>\n",
       "      <th>8</th>\n",
       "      <td>4</td>\n",
       "      <td>BUENOS AIRES</td>\n",
       "      <td></td>\n",
       "      <td>FRENTE PARA LA VICTORIA</td>\n",
       "      <td>/media/</td>\n",
       "      <td></td>\n",
       "      <td></td>\n",
       "      <td>1</td>\n",
       "      <td></td>\n",
       "      <td>AFIRMATIVO</td>\n",
       "      <td>...</td>\n",
       "      <td>MULLER,  Mabel Hilda</td>\n",
       "      <td></td>\n",
       "      <td></td>\n",
       "      <td>diputados</td>\n",
       "      <td>False</td>\n",
       "      <td></td>\n",
       "      <td>17/04/2013</td>\n",
       "      <td>1</td>\n",
       "      <td>2013-04-17</td>\n",
       "      <td>2013-04-17 00:00:00.000002</td>\n",
       "    </tr>\n",
       "    <tr>\n",
       "      <th>403</th>\n",
       "      <th>8</th>\n",
       "      <td>1</td>\n",
       "      <td>SANTIAGO DEL ESTERO</td>\n",
       "      <td>gnavarro@diputados.gob.ar</td>\n",
       "      <td>FRENTE CÍVICO POR SANTIAGO</td>\n",
       "      <td>/media/photos/Navarro_Graciela.jpg</td>\n",
       "      <td></td>\n",
       "      <td>Kirchnerismo y aliados</td>\n",
       "      <td>1</td>\n",
       "      <td></td>\n",
       "      <td>AFIRMATIVO</td>\n",
       "      <td>...</td>\n",
       "      <td>NAVARRO,  Graciela</td>\n",
       "      <td></td>\n",
       "      <td>3</td>\n",
       "      <td>diputados</td>\n",
       "      <td>False</td>\n",
       "      <td>#007caf</td>\n",
       "      <td>17/04/2013</td>\n",
       "      <td>1</td>\n",
       "      <td>2013-04-17</td>\n",
       "      <td>2013-04-17 00:00:00.000002</td>\n",
       "    </tr>\n",
       "    <tr>\n",
       "      <th>404</th>\n",
       "      <th>8</th>\n",
       "      <td>8</td>\n",
       "      <td>CÓRDOBA</td>\n",
       "      <td></td>\n",
       "      <td>FRENTE PARA LA VICTORIA</td>\n",
       "      <td>/media/</td>\n",
       "      <td></td>\n",
       "      <td></td>\n",
       "      <td>1</td>\n",
       "      <td></td>\n",
       "      <td>AFIRMATIVO</td>\n",
       "      <td>...</td>\n",
       "      <td>NEBREDA,  Carmen Rosa</td>\n",
       "      <td></td>\n",
       "      <td></td>\n",
       "      <td>diputados</td>\n",
       "      <td>False</td>\n",
       "      <td></td>\n",
       "      <td>17/04/2013</td>\n",
       "      <td>1</td>\n",
       "      <td>2013-04-17</td>\n",
       "      <td>2013-04-17 00:00:00.000002</td>\n",
       "    </tr>\n",
       "    <tr>\n",
       "      <th>...</th>\n",
       "      <th>...</th>\n",
       "      <td>...</td>\n",
       "      <td>...</td>\n",
       "      <td>...</td>\n",
       "      <td>...</td>\n",
       "      <td>...</td>\n",
       "      <td>...</td>\n",
       "      <td>...</td>\n",
       "      <td>...</td>\n",
       "      <td>...</td>\n",
       "      <td>...</td>\n",
       "      <td>...</td>\n",
       "      <td>...</td>\n",
       "      <td>...</td>\n",
       "      <td>...</td>\n",
       "      <td>...</td>\n",
       "      <td>...</td>\n",
       "      <td>...</td>\n",
       "      <td>...</td>\n",
       "      <td>...</td>\n",
       "      <td>...</td>\n",
       "      <td>...</td>\n",
       "    </tr>\n",
       "    <tr>\n",
       "      <th>778</th>\n",
       "      <th>637</th>\n",
       "      <td>12</td>\n",
       "      <td>SALTA</td>\n",
       "      <td>jdavid@diputados.gob.ar</td>\n",
       "      <td>JUSTICIALISTA</td>\n",
       "      <td>/media/photos/David_Nestor.jpg</td>\n",
       "      <td></td>\n",
       "      <td>PJ no K</td>\n",
       "      <td>1</td>\n",
       "      <td></td>\n",
       "      <td>AUSENTE</td>\n",
       "      <td>...</td>\n",
       "      <td>David., Néstor Javier</td>\n",
       "      <td></td>\n",
       "      <td>12</td>\n",
       "      <td>diputados</td>\n",
       "      <td>False</td>\n",
       "      <td>#A05F11</td>\n",
       "      <td>01/07/2016</td>\n",
       "      <td>0</td>\n",
       "      <td>2016-07-01</td>\n",
       "      <td>2016-07-01 00:00:00.000004</td>\n",
       "    </tr>\n",
       "    <tr>\n",
       "      <th>889</th>\n",
       "      <th>637</th>\n",
       "      <td>2</td>\n",
       "      <td>MENDOZA</td>\n",
       "      <td>gcousinet@diputados.gob.ar</td>\n",
       "      <td>LIBRES DEL SUR</td>\n",
       "      <td>/media/</td>\n",
       "      <td>@GCousinet</td>\n",
       "      <td>FAP</td>\n",
       "      <td>1</td>\n",
       "      <td></td>\n",
       "      <td>AUSENTE</td>\n",
       "      <td>...</td>\n",
       "      <td>Cousinet., Graciela</td>\n",
       "      <td></td>\n",
       "      <td>11</td>\n",
       "      <td>diputados</td>\n",
       "      <td>False</td>\n",
       "      <td>#CECA7A</td>\n",
       "      <td>01/07/2016</td>\n",
       "      <td>0</td>\n",
       "      <td>2016-07-01</td>\n",
       "      <td>2016-07-01 00:00:00.000004</td>\n",
       "    </tr>\n",
       "    <tr>\n",
       "      <th>156</th>\n",
       "      <th>637</th>\n",
       "      <td>18</td>\n",
       "      <td>SANTA CRUZ</td>\n",
       "      <td>ecosta@diputados.gob.ar</td>\n",
       "      <td>UNIÓN CÍVICA RADICAL</td>\n",
       "      <td>/media/photos/Costa_Eduardo_1.jpg</td>\n",
       "      <td>@eduardocostasc</td>\n",
       "      <td>Cambiemos</td>\n",
       "      <td>1</td>\n",
       "      <td></td>\n",
       "      <td>AUSENTE</td>\n",
       "      <td>...</td>\n",
       "      <td>COSTA,  Eduardo Raúl</td>\n",
       "      <td></td>\n",
       "      <td>10</td>\n",
       "      <td>diputados</td>\n",
       "      <td>False</td>\n",
       "      <td>#FEDB30</td>\n",
       "      <td>01/07/2016</td>\n",
       "      <td>0</td>\n",
       "      <td>2016-07-01</td>\n",
       "      <td>2016-07-01 00:00:00.000004</td>\n",
       "    </tr>\n",
       "    <tr>\n",
       "      <th>776</th>\n",
       "      <th>637</th>\n",
       "      <td>19</td>\n",
       "      <td>MISIONES</td>\n",
       "      <td>mcloss@diputados.gob.ar</td>\n",
       "      <td>B. DEL FRENTE DE LA CONCORDIA MISIONERO</td>\n",
       "      <td>/media/photos/Closs_Maurice_Fabian.jpg</td>\n",
       "      <td>@mauricloss</td>\n",
       "      <td>PJ no K</td>\n",
       "      <td>1</td>\n",
       "      <td></td>\n",
       "      <td>AUSENTE</td>\n",
       "      <td>...</td>\n",
       "      <td>Closs., Maurice Fabián</td>\n",
       "      <td></td>\n",
       "      <td>12</td>\n",
       "      <td>diputados</td>\n",
       "      <td>False</td>\n",
       "      <td>#A05F11</td>\n",
       "      <td>01/07/2016</td>\n",
       "      <td>0</td>\n",
       "      <td>2016-07-01</td>\n",
       "      <td>2016-07-01 00:00:00.000004</td>\n",
       "    </tr>\n",
       "    <tr>\n",
       "      <th>679</th>\n",
       "      <th>637</th>\n",
       "      <td>4</td>\n",
       "      <td>BUENOS AIRES</td>\n",
       "      <td>efabiani@diputados.gob.ar</td>\n",
       "      <td>JUNTOS POR ARGENTINA</td>\n",
       "      <td>/media/photos/Fabiani-Eduardo-Alberto.jpg</td>\n",
       "      <td></td>\n",
       "      <td>PJ no K</td>\n",
       "      <td>1</td>\n",
       "      <td></td>\n",
       "      <td>NEGATIVO</td>\n",
       "      <td>...</td>\n",
       "      <td>fabiani,  eduardo alberto</td>\n",
       "      <td>Se fue del Frente Renovador en mayo de 2015</td>\n",
       "      <td>12</td>\n",
       "      <td>diputados</td>\n",
       "      <td>False</td>\n",
       "      <td>#A05F11</td>\n",
       "      <td>01/07/2016</td>\n",
       "      <td>-1</td>\n",
       "      <td>2016-07-01</td>\n",
       "      <td>2016-07-01 00:00:00.000004</td>\n",
       "    </tr>\n",
       "  </tbody>\n",
       "</table>\n",
       "<p>93330 rows × 21 columns</p>\n",
       "</div>"
      ],
      "text/plain": [
       "                        provincia_id            provincia  \\\n",
       "legislador_id sesion_id                                     \n",
       "288           8                   20             LA RIOJA   \n",
       "395           8                    4         BUENOS AIRES   \n",
       "401           8                    4         BUENOS AIRES   \n",
       "403           8                    1  SANTIAGO DEL ESTERO   \n",
       "404           8                    8              CÓRDOBA   \n",
       "...                              ...                  ...   \n",
       "778           637                 12                SALTA   \n",
       "889           637                  2              MENDOZA   \n",
       "156           637                 18           SANTA CRUZ   \n",
       "776           637                 19             MISIONES   \n",
       "679           637                  4         BUENOS AIRES   \n",
       "\n",
       "                                               mail  \\\n",
       "legislador_id sesion_id                               \n",
       "288           8           gherrera@diputados.gob.ar   \n",
       "395           8            cmoreno@diputados.gob.ar   \n",
       "401           8                                       \n",
       "403           8           gnavarro@diputados.gob.ar   \n",
       "404           8                                       \n",
       "...                                             ...   \n",
       "778           637           jdavid@diputados.gob.ar   \n",
       "889           637        gcousinet@diputados.gob.ar   \n",
       "156           637           ecosta@diputados.gob.ar   \n",
       "776           637           mcloss@diputados.gob.ar   \n",
       "679           637         efabiani@diputados.gob.ar   \n",
       "\n",
       "                                                         partido  \\\n",
       "legislador_id sesion_id                                            \n",
       "288           8                          FRENTE PARA LA VICTORIA   \n",
       "395           8                          FRENTE PARA LA VICTORIA   \n",
       "401           8                          FRENTE PARA LA VICTORIA   \n",
       "403           8                       FRENTE CÍVICO POR SANTIAGO   \n",
       "404           8                          FRENTE PARA LA VICTORIA   \n",
       "...                                                          ...   \n",
       "778           637                                  JUSTICIALISTA   \n",
       "889           637                                 LIBRES DEL SUR   \n",
       "156           637                           UNIÓN CÍVICA RADICAL   \n",
       "776           637        B. DEL FRENTE DE LA CONCORDIA MISIONERO   \n",
       "679           637                           JUNTOS POR ARGENTINA   \n",
       "\n",
       "                                                             photo  \\\n",
       "legislador_id sesion_id                                              \n",
       "288           8           /media/photos/Herrera-Griselda-Noemi.jpg   \n",
       "395           8              /media/photos/Moreno_Carlos_julio.jpg   \n",
       "401           8                                            /media/   \n",
       "403           8                 /media/photos/Navarro_Graciela.jpg   \n",
       "404           8                                            /media/   \n",
       "...                                                            ...   \n",
       "778           637                   /media/photos/David_Nestor.jpg   \n",
       "889           637                                          /media/   \n",
       "156           637                /media/photos/Costa_Eduardo_1.jpg   \n",
       "776           637           /media/photos/Closs_Maurice_Fabian.jpg   \n",
       "679           637        /media/photos/Fabiani-Eduardo-Alberto.jpg   \n",
       "\n",
       "                                 twitter              agrupacion  in_ranking  \\\n",
       "legislador_id sesion_id                                                        \n",
       "288           8            @griherreraok  Kirchnerismo y aliados           1   \n",
       "395           8           @julioc_moreno  Kirchnerismo y aliados           1   \n",
       "401           8                                                            1   \n",
       "403           8                           Kirchnerismo y aliados           1   \n",
       "404           8                                                            1   \n",
       "...                                  ...                     ...         ...   \n",
       "778           637                                        PJ no K           1   \n",
       "889           637             @GCousinet                     FAP           1   \n",
       "156           637        @eduardocostasc               Cambiemos           1   \n",
       "776           637            @mauricloss                 PJ no K           1   \n",
       "679           637                                        PJ no K           1   \n",
       "\n",
       "                        tag_nacion        voto  ...  \\\n",
       "legislador_id sesion_id                         ...   \n",
       "288           8                     AFIRMATIVO  ...   \n",
       "395           8                     AFIRMATIVO  ...   \n",
       "401           8                     AFIRMATIVO  ...   \n",
       "403           8                     AFIRMATIVO  ...   \n",
       "404           8                     AFIRMATIVO  ...   \n",
       "...                            ...         ...  ...   \n",
       "778           637                      AUSENTE  ...   \n",
       "889           637                      AUSENTE  ...   \n",
       "156           637                      AUSENTE  ...   \n",
       "776           637                      AUSENTE  ...   \n",
       "679           637                     NEGATIVO  ...   \n",
       "\n",
       "                                            nombre  \\\n",
       "legislador_id sesion_id                              \n",
       "288           8           HERRERA,  Griselda Noemí   \n",
       "395           8              MORENO,  Carlos Julio   \n",
       "401           8               MULLER,  Mabel Hilda   \n",
       "403           8                 NAVARRO,  Graciela   \n",
       "404           8              NEBREDA,  Carmen Rosa   \n",
       "...                                            ...   \n",
       "778           637            David., Néstor Javier   \n",
       "889           637              Cousinet., Graciela   \n",
       "156           637             COSTA,  Eduardo Raúl   \n",
       "776           637           Closs., Maurice Fabián   \n",
       "679           637        fabiani,  eduardo alberto   \n",
       "\n",
       "                                                         descripcion  \\\n",
       "legislador_id sesion_id                                                \n",
       "288           8                                                        \n",
       "395           8                                                        \n",
       "401           8                                                        \n",
       "403           8                                                        \n",
       "404           8                                                        \n",
       "...                                                              ...   \n",
       "778           637                                                      \n",
       "889           637                                                      \n",
       "156           637                                                      \n",
       "776           637                                                      \n",
       "679           637        Se fue del Frente Renovador en mayo de 2015   \n",
       "\n",
       "                        agrupacion_id     camara presidencia  \\\n",
       "legislador_id sesion_id                                        \n",
       "288           8                     3  diputados       False   \n",
       "395           8                     3  diputados       False   \n",
       "401           8                        diputados       False   \n",
       "403           8                     3  diputados       False   \n",
       "404           8                        diputados       False   \n",
       "...                               ...        ...         ...   \n",
       "778           637                  12  diputados       False   \n",
       "889           637                  11  diputados       False   \n",
       "156           637                  10  diputados       False   \n",
       "776           637                  12  diputados       False   \n",
       "679           637                  12  diputados       False   \n",
       "\n",
       "                         agrupacion_color     datestr vote-value        date  \\\n",
       "legislador_id sesion_id                                                        \n",
       "288           8                   #007caf  17/04/2013          1  2013-04-17   \n",
       "395           8                   #007caf  17/04/2013          1  2013-04-17   \n",
       "401           8                            17/04/2013          1  2013-04-17   \n",
       "403           8                   #007caf  17/04/2013          1  2013-04-17   \n",
       "404           8                            17/04/2013          1  2013-04-17   \n",
       "...                                   ...         ...        ...         ...   \n",
       "778           637                 #A05F11  01/07/2016          0  2016-07-01   \n",
       "889           637                 #CECA7A  01/07/2016          0  2016-07-01   \n",
       "156           637                 #FEDB30  01/07/2016          0  2016-07-01   \n",
       "776           637                 #A05F11  01/07/2016          0  2016-07-01   \n",
       "679           637                 #A05F11  01/07/2016         -1  2016-07-01   \n",
       "\n",
       "                                          datetime  \n",
       "legislador_id sesion_id                             \n",
       "288           8         2013-04-17 00:00:00.000002  \n",
       "395           8         2013-04-17 00:00:00.000002  \n",
       "401           8         2013-04-17 00:00:00.000002  \n",
       "403           8         2013-04-17 00:00:00.000002  \n",
       "404           8         2013-04-17 00:00:00.000002  \n",
       "...                                            ...  \n",
       "778           637       2016-07-01 00:00:00.000004  \n",
       "889           637       2016-07-01 00:00:00.000004  \n",
       "156           637       2016-07-01 00:00:00.000004  \n",
       "776           637       2016-07-01 00:00:00.000004  \n",
       "679           637       2016-07-01 00:00:00.000004  \n",
       "\n",
       "[93330 rows x 21 columns]"
      ]
     },
     "execution_count": 12,
     "metadata": {},
     "output_type": "execute_result"
    }
   ],
   "source": [
    "# Vemos el data frame\n",
    "df_votes"
   ]
  },
  {
   "cell_type": "code",
   "execution_count": 13,
   "metadata": {
    "collapsed": false
   },
   "outputs": [
    {
     "name": "stdout",
     "output_type": "stream",
     "text": [
      "Total number of sessions:\n",
      "371\n"
     ]
    }
   ],
   "source": [
    "print('Total number of sessions:')\n",
    "print(len(df_votes.reset_index()['sesion_id'].value_counts()))"
   ]
  },
  {
   "cell_type": "code",
   "execution_count": 14,
   "metadata": {
    "collapsed": false
   },
   "outputs": [
    {
     "name": "stdout",
     "output_type": "stream",
     "text": [
      "Total number of legislators:\n",
      "648\n"
     ]
    }
   ],
   "source": [
    "print('Total number of legislators:')\n",
    "print(len(df_votes.reset_index()['legislador_id'].value_counts()))"
   ]
  },
  {
   "cell_type": "code",
   "execution_count": 15,
   "metadata": {
    "collapsed": false
   },
   "outputs": [
    {
     "data": {
      "text/plain": [
       "93330"
      ]
     },
     "execution_count": 15,
     "metadata": {},
     "output_type": "execute_result"
    }
   ],
   "source": [
    "len(df_votes)"
   ]
  },
  {
   "cell_type": "code",
   "execution_count": 16,
   "metadata": {
    "collapsed": false
   },
   "outputs": [],
   "source": [
    "df_votes.to_csv('data/votes.csv')"
   ]
  },
  {
   "cell_type": "code",
   "execution_count": 17,
   "metadata": {
    "collapsed": false
   },
   "outputs": [
    {
     "name": "stdout",
     "output_type": "stream",
     "text": [
      "1131\n",
      "648\n"
     ]
    }
   ],
   "source": [
    "df_member_profile = df_votes.reset_index()[['legislador_id', 'agrupacion', 'agrupacion_color', 'camara', 'mail', 'nombre', 'partido']].drop_duplicates()\n",
    "print(len(df_member_profile))\n",
    "df_member_profile = df_member_profile.drop_duplicates('legislador_id')\n",
    "print(len(df_member_profile))\n",
    "df_member_profile.to_csv('data/member-profile.csv')"
   ]
  },
  {
   "cell_type": "code",
   "execution_count": 18,
   "metadata": {
    "collapsed": false
   },
   "outputs": [
    {
     "data": {
      "text/html": [
       "<div>\n",
       "<style scoped>\n",
       "    .dataframe tbody tr th:only-of-type {\n",
       "        vertical-align: middle;\n",
       "    }\n",
       "\n",
       "    .dataframe tbody tr th {\n",
       "        vertical-align: top;\n",
       "    }\n",
       "\n",
       "    .dataframe thead th {\n",
       "        text-align: right;\n",
       "    }\n",
       "</style>\n",
       "<table border=\"1\" class=\"dataframe\">\n",
       "  <thead>\n",
       "    <tr style=\"text-align: right;\">\n",
       "      <th></th>\n",
       "      <th>legislador_id</th>\n",
       "      <th>agrupacion</th>\n",
       "      <th>agrupacion_color</th>\n",
       "      <th>camara</th>\n",
       "      <th>mail</th>\n",
       "      <th>nombre</th>\n",
       "      <th>partido</th>\n",
       "    </tr>\n",
       "  </thead>\n",
       "  <tbody>\n",
       "    <tr>\n",
       "      <th>48160</th>\n",
       "      <td>738</td>\n",
       "      <td>Massismo y aliados</td>\n",
       "      <td>#b185b7</td>\n",
       "      <td>diputados</td>\n",
       "      <td>mtundis@diputados.gob.ar</td>\n",
       "      <td>TUNDIS,  MIRTA</td>\n",
       "      <td>FRENTE RENOVADOR</td>\n",
       "    </tr>\n",
       "  </tbody>\n",
       "</table>\n",
       "</div>"
      ],
      "text/plain": [
       "       legislador_id          agrupacion agrupacion_color     camara  \\\n",
       "48160            738  Massismo y aliados          #b185b7  diputados   \n",
       "\n",
       "                           mail          nombre           partido  \n",
       "48160  mtundis@diputados.gob.ar  TUNDIS,  MIRTA  FRENTE RENOVADOR  "
      ]
     },
     "execution_count": 18,
     "metadata": {},
     "output_type": "execute_result"
    }
   ],
   "source": [
    "df_member_profile[\n",
    "    df_member_profile['legislador_id'] == 738\n",
    "]"
   ]
  },
  {
   "cell_type": "code",
   "execution_count": 21,
   "metadata": {
    "collapsed": false
   },
   "outputs": [
    {
     "ename": "AttributeError",
     "evalue": "'DataFrame' object has no attribute 'ix'",
     "output_type": "error",
     "traceback": [
      "\u001b[1;31m---------------------------------------------------------------------------\u001b[0m",
      "\u001b[1;31mAttributeError\u001b[0m                            Traceback (most recent call last)",
      "\u001b[1;32m<ipython-input-21-55af88cfe56d>\u001b[0m in \u001b[0;36m<module>\u001b[1;34m\u001b[0m\n\u001b[1;32m----> 1\u001b[1;33m \u001b[0mdf_member_profile\u001b[0m\u001b[1;33m.\u001b[0m\u001b[0mset_index\u001b[0m\u001b[1;33m(\u001b[0m\u001b[1;34m'legislador_id'\u001b[0m\u001b[1;33m)\u001b[0m\u001b[1;33m.\u001b[0m\u001b[0mix\u001b[0m\u001b[1;33m[\u001b[0m\u001b[1;36m738\u001b[0m\u001b[1;33m]\u001b[0m\u001b[1;33m\u001b[0m\u001b[1;33m\u001b[0m\u001b[0m\n\u001b[0m",
      "\u001b[1;32m~\\anaconda3\\lib\\site-packages\\pandas\\core\\generic.py\u001b[0m in \u001b[0;36m__getattr__\u001b[1;34m(self, name)\u001b[0m\n\u001b[0;32m   5463\u001b[0m             \u001b[1;32mif\u001b[0m \u001b[0mself\u001b[0m\u001b[1;33m.\u001b[0m\u001b[0m_info_axis\u001b[0m\u001b[1;33m.\u001b[0m\u001b[0m_can_hold_identifiers_and_holds_name\u001b[0m\u001b[1;33m(\u001b[0m\u001b[0mname\u001b[0m\u001b[1;33m)\u001b[0m\u001b[1;33m:\u001b[0m\u001b[1;33m\u001b[0m\u001b[1;33m\u001b[0m\u001b[0m\n\u001b[0;32m   5464\u001b[0m                 \u001b[1;32mreturn\u001b[0m \u001b[0mself\u001b[0m\u001b[1;33m[\u001b[0m\u001b[0mname\u001b[0m\u001b[1;33m]\u001b[0m\u001b[1;33m\u001b[0m\u001b[1;33m\u001b[0m\u001b[0m\n\u001b[1;32m-> 5465\u001b[1;33m             \u001b[1;32mreturn\u001b[0m \u001b[0mobject\u001b[0m\u001b[1;33m.\u001b[0m\u001b[0m__getattribute__\u001b[0m\u001b[1;33m(\u001b[0m\u001b[0mself\u001b[0m\u001b[1;33m,\u001b[0m \u001b[0mname\u001b[0m\u001b[1;33m)\u001b[0m\u001b[1;33m\u001b[0m\u001b[1;33m\u001b[0m\u001b[0m\n\u001b[0m\u001b[0;32m   5466\u001b[0m \u001b[1;33m\u001b[0m\u001b[0m\n\u001b[0;32m   5467\u001b[0m     \u001b[1;32mdef\u001b[0m \u001b[0m__setattr__\u001b[0m\u001b[1;33m(\u001b[0m\u001b[0mself\u001b[0m\u001b[1;33m,\u001b[0m \u001b[0mname\u001b[0m\u001b[1;33m:\u001b[0m \u001b[0mstr\u001b[0m\u001b[1;33m,\u001b[0m \u001b[0mvalue\u001b[0m\u001b[1;33m)\u001b[0m \u001b[1;33m->\u001b[0m \u001b[1;32mNone\u001b[0m\u001b[1;33m:\u001b[0m\u001b[1;33m\u001b[0m\u001b[1;33m\u001b[0m\u001b[0m\n",
      "\u001b[1;31mAttributeError\u001b[0m: 'DataFrame' object has no attribute 'ix'"
     ]
    }
   ],
   "source": [
    "df_member_profile.set_index('legislador_id').ix[738]"
   ]
  },
  {
   "cell_type": "code",
   "execution_count": 22,
   "metadata": {
    "collapsed": false
   },
   "outputs": [],
   "source": [
    "df_selected_votes = df_votes[\n",
    "    (df_votes['date'] >= date(2013, 12, 12))\n",
    "    &\n",
    "    (df_votes['date'] <= date(2015, 12, 12))\n",
    "]"
   ]
  },
  {
   "cell_type": "code",
   "execution_count": 23,
   "metadata": {
    "collapsed": false
   },
   "outputs": [
    {
     "data": {
      "text/plain": [
       "37379"
      ]
     },
     "execution_count": 23,
     "metadata": {},
     "output_type": "execute_result"
    }
   ],
   "source": [
    "len(df_selected_votes)"
   ]
  },
  {
   "cell_type": "code",
   "execution_count": 24,
   "metadata": {
    "collapsed": false
   },
   "outputs": [],
   "source": [
    "df_votes_brief = df_selected_votes[['voto', 'vote-value']]"
   ]
  },
  {
   "cell_type": "code",
   "execution_count": 25,
   "metadata": {
    "collapsed": false
   },
   "outputs": [
    {
     "data": {
      "text/plain": [
       "AFIRMATIVO    25638\n",
       "AUSENTE        7516\n",
       "NEGATIVO       3241\n",
       "ABSTENCION      984\n",
       "Name: voto, dtype: int64"
      ]
     },
     "execution_count": 25,
     "metadata": {},
     "output_type": "execute_result"
    }
   ],
   "source": [
    "df_votes_brief['voto'].value_counts()"
   ]
  },
  {
   "cell_type": "code",
   "execution_count": 26,
   "metadata": {
    "collapsed": false
   },
   "outputs": [],
   "source": [
    "df_matrix = df_votes_brief.reset_index().pivot(index='legislador_id', columns='sesion_id', values='vote-value')"
   ]
  },
  {
   "cell_type": "code",
   "execution_count": 27,
   "metadata": {
    "collapsed": false
   },
   "outputs": [],
   "source": [
    "df_matrix = df_matrix.fillna(0)"
   ]
  },
  {
   "cell_type": "code",
   "execution_count": 28,
   "metadata": {
    "collapsed": false
   },
   "outputs": [],
   "source": [
    "df_matrix.to_csv('data/matrix-2013-2015.csv')"
   ]
  },
  {
   "cell_type": "code",
   "execution_count": 29,
   "metadata": {
    "collapsed": false
   },
   "outputs": [
    {
     "data": {
      "text/plain": [
       "(264, 146)"
      ]
     },
     "execution_count": 29,
     "metadata": {},
     "output_type": "execute_result"
    }
   ],
   "source": [
    "df_matrix.shape"
   ]
  },
  {
   "cell_type": "code",
   "execution_count": 45,
   "metadata": {
    "collapsed": true
   },
   "outputs": [],
   "source": [
    "# X = np.matrix(df_matrix.fillna(0).as_matrix()).astype('int8')\n",
    "# X = np.matrix.astype('int8')\n",
    "# X = np.matrix\n",
    "X = np.matrix(df_matrix.fillna(0).astype('int8'))"
   ]
  },
  {
   "cell_type": "markdown",
   "metadata": {},
   "source": [
    "#### Componentes princiaples"
   ]
  },
  {
   "cell_type": "code",
   "execution_count": 46,
   "metadata": {
    "collapsed": true
   },
   "outputs": [],
   "source": [
    "from sklearn.decomposition import PCA\n",
    "pca = PCA(n_components=3)\n",
    "X_reduced = pca.fit_transform(X)\n",
    "df_pc = pd.DataFrame(X_reduced, index=df_matrix.index, columns=['PC1', 'PC2', 'PC3'])"
   ]
  },
  {
   "cell_type": "code",
   "execution_count": 47,
   "metadata": {
    "collapsed": false
   },
   "outputs": [
    {
     "data": {
      "text/plain": [
       "array([28.33727497,  3.63767599,  1.95871994])"
      ]
     },
     "execution_count": 47,
     "metadata": {},
     "output_type": "execute_result"
    }
   ],
   "source": [
    "pca.explained_variance_"
   ]
  },
  {
   "cell_type": "markdown",
   "metadata": {},
   "source": [
    "Watch out:\n",
    "* The explained variance by PC1 to PC3 is very small in this data set\n",
    "* The data set is highly non-linear"
   ]
  },
  {
   "cell_type": "code",
   "execution_count": 48,
   "metadata": {
    "collapsed": false
   },
   "outputs": [
    {
     "data": {
      "text/plain": [
       "<AxesSubplot:xlabel='PC1', ylabel='PC2'>"
      ]
     },
     "execution_count": 48,
     "metadata": {},
     "output_type": "execute_result"
    },
    {
     "data": {
      "image/png": "[encoded data removed]",
      "text/plain": [
       "<Figure size 432x288 with 1 Axes>"
      ]
     },
     "metadata": {
      "needs_background": "light"
     },
     "output_type": "display_data"
    }
   ],
   "source": [
    "%matplotlib inline\n",
    "df_pc[['PC1', 'PC2']].plot(x='PC1', y='PC2', kind='scatter')"
   ]
  },
  {
   "cell_type": "code",
   "execution_count": 49,
   "metadata": {
    "collapsed": true
   },
   "outputs": [],
   "source": [
    "df_party_count_color = pd.read_csv('data/party-count-color.csv')"
   ]
  },
  {
   "cell_type": "code",
   "execution_count": 50,
   "metadata": {
    "collapsed": false
   },
   "outputs": [
    {
     "data": {
      "text/plain": [
       "264"
      ]
     },
     "execution_count": 50,
     "metadata": {},
     "output_type": "execute_result"
    }
   ],
   "source": [
    "len(df_pc)"
   ]
  },
  {
   "cell_type": "code",
   "execution_count": 51,
   "metadata": {
    "collapsed": false
   },
   "outputs": [
    {
     "data": {
      "text/plain": [
       "648"
      ]
     },
     "execution_count": 51,
     "metadata": {},
     "output_type": "execute_result"
    }
   ],
   "source": [
    "len(df_member_profile)"
   ]
  },
  {
   "cell_type": "code",
   "execution_count": 52,
   "metadata": {
    "collapsed": false
   },
   "outputs": [],
   "source": [
    "df_pc_member = pd.merge(df_pc.reset_index(), df_member_profile, how='left',\n",
    "                        left_on='legislador_id', right_on='legislador_id')"
   ]
  },
  {
   "cell_type": "code",
   "execution_count": 53,
   "metadata": {
    "collapsed": false
   },
   "outputs": [
    {
     "data": {
      "text/plain": [
       "264"
      ]
     },
     "execution_count": 53,
     "metadata": {},
     "output_type": "execute_result"
    }
   ],
   "source": [
    "len(df_pc_member)"
   ]
  },
  {
   "cell_type": "code",
   "execution_count": 54,
   "metadata": {
    "collapsed": false
   },
   "outputs": [
    {
     "data": {
      "text/plain": [
       "264"
      ]
     },
     "execution_count": 54,
     "metadata": {},
     "output_type": "execute_result"
    }
   ],
   "source": [
    "len(df_pc)"
   ]
  },
  {
   "cell_type": "code",
   "execution_count": 55,
   "metadata": {
    "collapsed": false
   },
   "outputs": [
    {
     "data": {
      "text/plain": [
       "<matplotlib.collections.PathCollection at 0x16c741f8d00>"
      ]
     },
     "execution_count": 55,
     "metadata": {},
     "output_type": "execute_result"
    },
    {
     "data": {
      "image/png": "[encoded data removed]",
      "text/plain": [
       "<Figure size 432x288 with 1 Axes>"
      ]
     },
     "metadata": {
      "needs_background": "light"
     },
     "output_type": "display_data"
    }
   ],
   "source": [
    "plt.scatter(1, 2)\n",
    "plt.scatter(2, 3)"
   ]
  },
  {
   "cell_type": "code",
   "execution_count": 56,
   "metadata": {
    "collapsed": false
   },
   "outputs": [
    {
     "name": "stdout",
     "output_type": "stream",
     "text": [
      "('', '')\n",
      "('Izquierda', '#D23939')\n",
      "('Kirchnerismo y aliados', '#007caf')\n",
      "('Massismo y aliados', '#b185b7')\n",
      "('Otros', '#A6A6A6')\n",
      "('Peronismo no kirchnerista', '#f6a619')\n",
      "('Pro y aliados', '#fbd95b')\n",
      "('UNEN - FAP - UCR', '#8eab35')\n"
     ]
    },
    {
     "data": {
      "text/plain": [
       "Text(0, 0.5, 'PC2')"
      ]
     },
     "execution_count": 56,
     "metadata": {},
     "output_type": "execute_result"
    },
    {
     "data": {
      "image/png": "[encoded data removed]",
      "text/plain": [
       "<Figure size 864x432 with 1 Axes>"
      ]
     },
     "metadata": {
      "needs_background": "light"
     },
     "output_type": "display_data"
    }
   ],
   "source": [
    "plt.figure(figsize=(12, 6))\n",
    "ax = plt.subplot(1, 1, 1)\n",
    "from matplotlib.colors import ColorConverter\n",
    "\n",
    "'''\n",
    "for (i, m) in df_pc_member.iterrows():\n",
    "    #print(m['PC1'])\n",
    "    ax.scatter(m['PC1'], m['PC2'], color=m['_color'])\n",
    "    #print(m)\n",
    "'''\n",
    "\n",
    "for (gname, group) in df_pc_member.groupby(['agrupacion', 'agrupacion_color']):\n",
    "    print(gname)\n",
    "    if gname == ('', ''):\n",
    "        gname = ('null', '#000000')\n",
    "    ax.scatter(group['PC1'], group['PC2'], color=gname[1], label=gname[0])\n",
    "\n",
    "plt.legend(loc='upper left')\n",
    "plt.xlabel('PC1')\n",
    "plt.ylabel('PC2')\n",
    "\n",
    "#df_pc[['PC1', 'PC2']].plot(x='PC1', y='PC2', kind='scatter')"
   ]
  },
  {
   "cell_type": "code",
   "execution_count": 57,
   "metadata": {
    "collapsed": false
   },
   "outputs": [
    {
     "name": "stdout",
     "output_type": "stream",
     "text": [
      "('', '')\n",
      "('Izquierda', '#D23939')\n",
      "('Kirchnerismo y aliados', '#007caf')\n",
      "('Massismo y aliados', '#b185b7')\n",
      "('Otros', '#A6A6A6')\n",
      "('Peronismo no kirchnerista', '#f6a619')\n",
      "('Pro y aliados', '#fbd95b')\n",
      "('UNEN - FAP - UCR', '#8eab35')\n"
     ]
    },
    {
     "data": {
      "text/plain": [
       "Text(0, 0.5, 'PC2')"
      ]
     },
     "execution_count": 57,
     "metadata": {},
     "output_type": "execute_result"
    },
    {
     "data": {
      "image/png": "[encoded data removed]",
      "text/plain": [
       "<Figure size 864x432 with 1 Axes>"
      ]
     },
     "metadata": {
      "needs_background": "light"
     },
     "output_type": "display_data"
    }
   ],
   "source": [
    "%matplotlib inline\n",
    "\n",
    "plt.figure(figsize=(12, 6))\n",
    "ax = plt.subplot(1, 1, 1)\n",
    "from matplotlib.colors import ColorConverter\n",
    "\n",
    "'''\n",
    "for (i, m) in df_pc_member.iterrows():\n",
    "    #print(m['PC1'])\n",
    "    ax.scatter(m['PC1'], m['PC2'], color=m['_color'])\n",
    "    #print(m)\n",
    "'''\n",
    "\n",
    "for (gname, group) in df_pc_member.groupby(['agrupacion', 'agrupacion_color']):\n",
    "    print(gname)\n",
    "    if gname == ('', ''):\n",
    "        gname = ('null', '#000000')\n",
    "    ax.scatter(group['PC1'], [0] * len(group['PC1']), color=gname[1], label=gname[0])\n",
    "\n",
    "plt.legend(loc='upper left')\n",
    "plt.xlabel('PC1')\n",
    "plt.ylabel('PC2')\n",
    "\n",
    "#df_pc[['PC1', 'PC2']].plot(x='PC1', y='PC2', kind='scatter')"
   ]
  },
  {
   "cell_type": "code",
   "execution_count": 58,
   "metadata": {
    "collapsed": false
   },
   "outputs": [
    {
     "data": {
      "text/plain": [
       "78005"
      ]
     },
     "execution_count": 58,
     "metadata": {},
     "output_type": "execute_result"
    }
   ],
   "source": [
    "df_pc_member['legislador_id'] = df_pc_member['legislador_id'].apply(lambda x: str(x))\n",
    "open('data/pc-member-3d.json', 'w').write(json.dumps(\n",
    "    df_pc_member.set_index('legislador_id').T.to_dict()\n",
    "    ))"
   ]
  },
  {
   "cell_type": "code",
   "execution_count": 59,
   "metadata": {
    "collapsed": false
   },
   "outputs": [
    {
     "data": {
      "text/html": [
       "<div>\n",
       "<style scoped>\n",
       "    .dataframe tbody tr th:only-of-type {\n",
       "        vertical-align: middle;\n",
       "    }\n",
       "\n",
       "    .dataframe tbody tr th {\n",
       "        vertical-align: top;\n",
       "    }\n",
       "\n",
       "    .dataframe thead th {\n",
       "        text-align: right;\n",
       "    }\n",
       "</style>\n",
       "<table border=\"1\" class=\"dataframe\">\n",
       "  <thead>\n",
       "    <tr style=\"text-align: right;\">\n",
       "      <th></th>\n",
       "      <th>legislador_id</th>\n",
       "      <th>PC1</th>\n",
       "      <th>PC2</th>\n",
       "      <th>PC3</th>\n",
       "      <th>agrupacion</th>\n",
       "      <th>agrupacion_color</th>\n",
       "      <th>camara</th>\n",
       "      <th>mail</th>\n",
       "      <th>nombre</th>\n",
       "      <th>partido</th>\n",
       "    </tr>\n",
       "  </thead>\n",
       "  <tbody>\n",
       "    <tr>\n",
       "      <th>0</th>\n",
       "      <td>1</td>\n",
       "      <td>-0.581584</td>\n",
       "      <td>3.205870</td>\n",
       "      <td>-0.160135</td>\n",
       "      <td>Kirchnerismo y aliados</td>\n",
       "      <td>#007caf</td>\n",
       "      <td>diputados</td>\n",
       "      <td>nabdaladem@diputados.gob.ar</td>\n",
       "      <td>Abdala de Matarazzo,  Norma Amanda</td>\n",
       "      <td>FRENTE CÍVICO POR SANTIAGO</td>\n",
       "    </tr>\n",
       "    <tr>\n",
       "      <th>1</th>\n",
       "      <td>8</td>\n",
       "      <td>5.984325</td>\n",
       "      <td>1.039177</td>\n",
       "      <td>-1.520055</td>\n",
       "      <td>UNEN - FAP - UCR</td>\n",
       "      <td>#8eab35</td>\n",
       "      <td>diputados</td>\n",
       "      <td>oaguad@diputados.gob.ar</td>\n",
       "      <td>Aguad,  Oscar Raúl</td>\n",
       "      <td>UNIÓN CÍVICA RADICAL</td>\n",
       "    </tr>\n",
       "    <tr>\n",
       "      <th>2</th>\n",
       "      <td>10</td>\n",
       "      <td>3.960056</td>\n",
       "      <td>-0.156964</td>\n",
       "      <td>0.767200</td>\n",
       "      <td>Peronismo no kirchnerista</td>\n",
       "      <td>#f6a619</td>\n",
       "      <td>diputados</td>\n",
       "      <td>laguilar@diputados.gob.ar</td>\n",
       "      <td>AGUILAR,  Lino Walter</td>\n",
       "      <td>FRENTE PERONISTA</td>\n",
       "    </tr>\n",
       "    <tr>\n",
       "      <th>3</th>\n",
       "      <td>19</td>\n",
       "      <td>5.452833</td>\n",
       "      <td>-1.578642</td>\n",
       "      <td>-0.600426</td>\n",
       "      <td>UNEN - FAP - UCR</td>\n",
       "      <td>#8eab35</td>\n",
       "      <td>diputados</td>\n",
       "      <td>ralfonsin@diputados.gob.ar</td>\n",
       "      <td>ALFONSÍN,  Ricardo Luis</td>\n",
       "      <td>UNIÓN CÍVICA RADICAL</td>\n",
       "    </tr>\n",
       "    <tr>\n",
       "      <th>4</th>\n",
       "      <td>22</td>\n",
       "      <td>6.595750</td>\n",
       "      <td>2.366079</td>\n",
       "      <td>2.555453</td>\n",
       "      <td>Pro y aliados</td>\n",
       "      <td>#fbd95b</td>\n",
       "      <td>diputados</td>\n",
       "      <td>lalonso@diputados.gob.ar</td>\n",
       "      <td>ALONSO,  Laura</td>\n",
       "      <td>PRO</td>\n",
       "    </tr>\n",
       "    <tr>\n",
       "      <th>...</th>\n",
       "      <td>...</td>\n",
       "      <td>...</td>\n",
       "      <td>...</td>\n",
       "      <td>...</td>\n",
       "      <td>...</td>\n",
       "      <td>...</td>\n",
       "      <td>...</td>\n",
       "      <td>...</td>\n",
       "      <td>...</td>\n",
       "      <td>...</td>\n",
       "    </tr>\n",
       "    <tr>\n",
       "      <th>259</th>\n",
       "      <td>765</td>\n",
       "      <td>5.848482</td>\n",
       "      <td>3.602665</td>\n",
       "      <td>0.836548</td>\n",
       "      <td>Pro y aliados</td>\n",
       "      <td>#fbd95b</td>\n",
       "      <td>diputados</td>\n",
       "      <td></td>\n",
       "      <td>Laspina,  Luciano</td>\n",
       "      <td>UNIÓN PRO</td>\n",
       "    </tr>\n",
       "    <tr>\n",
       "      <th>260</th>\n",
       "      <td>766</td>\n",
       "      <td>-0.068917</td>\n",
       "      <td>4.161108</td>\n",
       "      <td>-2.417735</td>\n",
       "      <td></td>\n",
       "      <td></td>\n",
       "      <td>diputados</td>\n",
       "      <td></td>\n",
       "      <td>Pasini, Ariel Osvaldo Eloy</td>\n",
       "      <td>FRENTE PARA LA VICTORIA</td>\n",
       "    </tr>\n",
       "    <tr>\n",
       "      <th>261</th>\n",
       "      <td>767</td>\n",
       "      <td>4.568847</td>\n",
       "      <td>4.037804</td>\n",
       "      <td>-1.684544</td>\n",
       "      <td></td>\n",
       "      <td></td>\n",
       "      <td>diputados</td>\n",
       "      <td></td>\n",
       "      <td>Bregman,  Myriam</td>\n",
       "      <td>PTS - FRENTE DE IZQUIERDA</td>\n",
       "    </tr>\n",
       "    <tr>\n",
       "      <th>262</th>\n",
       "      <td>768</td>\n",
       "      <td>4.019398</td>\n",
       "      <td>4.417477</td>\n",
       "      <td>-1.775098</td>\n",
       "      <td>UNEN - FAP - UCR</td>\n",
       "      <td>#8eab35</td>\n",
       "      <td>diputados</td>\n",
       "      <td></td>\n",
       "      <td>Fernández Blanco,  MarÍA Cristina</td>\n",
       "      <td>UNIÓN CÍVICA RADICAL</td>\n",
       "    </tr>\n",
       "    <tr>\n",
       "      <th>263</th>\n",
       "      <td>1176</td>\n",
       "      <td>-5.216951</td>\n",
       "      <td>0.216818</td>\n",
       "      <td>-0.590593</td>\n",
       "      <td>Kirchnerismo y aliados</td>\n",
       "      <td>#007caf</td>\n",
       "      <td>diputados</td>\n",
       "      <td>aferreyra@diputados.gob.ar</td>\n",
       "      <td>Ferreyra,  Araceli Susana Del Rosario</td>\n",
       "      <td></td>\n",
       "    </tr>\n",
       "  </tbody>\n",
       "</table>\n",
       "<p>264 rows × 10 columns</p>\n",
       "</div>"
      ],
      "text/plain": [
       "    legislador_id       PC1       PC2       PC3                 agrupacion  \\\n",
       "0               1 -0.581584  3.205870 -0.160135     Kirchnerismo y aliados   \n",
       "1               8  5.984325  1.039177 -1.520055           UNEN - FAP - UCR   \n",
       "2              10  3.960056 -0.156964  0.767200  Peronismo no kirchnerista   \n",
       "3              19  5.452833 -1.578642 -0.600426           UNEN - FAP - UCR   \n",
       "4              22  6.595750  2.366079  2.555453              Pro y aliados   \n",
       "..            ...       ...       ...       ...                        ...   \n",
       "259           765  5.848482  3.602665  0.836548              Pro y aliados   \n",
       "260           766 -0.068917  4.161108 -2.417735                              \n",
       "261           767  4.568847  4.037804 -1.684544                              \n",
       "262           768  4.019398  4.417477 -1.775098           UNEN - FAP - UCR   \n",
       "263          1176 -5.216951  0.216818 -0.590593     Kirchnerismo y aliados   \n",
       "\n",
       "    agrupacion_color     camara                         mail  \\\n",
       "0            #007caf  diputados  nabdaladem@diputados.gob.ar   \n",
       "1            #8eab35  diputados      oaguad@diputados.gob.ar   \n",
       "2            #f6a619  diputados    laguilar@diputados.gob.ar   \n",
       "3            #8eab35  diputados   ralfonsin@diputados.gob.ar   \n",
       "4            #fbd95b  diputados     lalonso@diputados.gob.ar   \n",
       "..               ...        ...                          ...   \n",
       "259          #fbd95b  diputados                                \n",
       "260                   diputados                                \n",
       "261                   diputados                                \n",
       "262          #8eab35  diputados                                \n",
       "263          #007caf  diputados   aferreyra@diputados.gob.ar   \n",
       "\n",
       "                                    nombre                     partido  \n",
       "0       Abdala de Matarazzo,  Norma Amanda  FRENTE CÍVICO POR SANTIAGO  \n",
       "1                       Aguad,  Oscar Raúl        UNIÓN CÍVICA RADICAL  \n",
       "2                    AGUILAR,  Lino Walter            FRENTE PERONISTA  \n",
       "3                  ALFONSÍN,  Ricardo Luis        UNIÓN CÍVICA RADICAL  \n",
       "4                           ALONSO,  Laura                         PRO  \n",
       "..                                     ...                         ...  \n",
       "259                      Laspina,  Luciano                   UNIÓN PRO  \n",
       "260             Pasini, Ariel Osvaldo Eloy     FRENTE PARA LA VICTORIA  \n",
       "261                       Bregman,  Myriam   PTS - FRENTE DE IZQUIERDA  \n",
       "262      Fernández Blanco,  MarÍA Cristina        UNIÓN CÍVICA RADICAL  \n",
       "263  Ferreyra,  Araceli Susana Del Rosario                              \n",
       "\n",
       "[264 rows x 10 columns]"
      ]
     },
     "execution_count": 59,
     "metadata": {},
     "output_type": "execute_result"
    }
   ],
   "source": [
    "df_pc_member"
   ]
  },
  {
   "cell_type": "code",
   "execution_count": 60,
   "metadata": {
    "collapsed": false
   },
   "outputs": [
    {
     "name": "stdout",
     "output_type": "stream",
     "text": [
      "('', '')\n",
      "('Izquierda', '#D23939')\n",
      "('Kirchnerismo y aliados', '#007caf')\n",
      "('Massismo y aliados', '#b185b7')\n",
      "('Otros', '#A6A6A6')\n",
      "('Peronismo no kirchnerista', '#f6a619')\n",
      "('Pro y aliados', '#fbd95b')\n",
      "('UNEN - FAP - UCR', '#8eab35')\n"
     ]
    },
    {
     "data": {
      "text/plain": [
       "8"
      ]
     },
     "execution_count": 60,
     "metadata": {},
     "output_type": "execute_result"
    },
    {
     "data": {
      "image/png": "[encoded data removed]",
      "text/plain": [
       "<Figure size 432x288 with 1 Axes>"
      ]
     },
     "metadata": {
      "needs_background": "light"
     },
     "output_type": "display_data"
    }
   ],
   "source": [
    "%matplotlib inline\n",
    "\n",
    "x = np.array(X_reduced.T[0, :]).astype('float')\n",
    "y = np.array(X_reduced.T[1, :]).astype('float')\n",
    "z = np.array(X_reduced.T[2, :]).astype('float')\n",
    "\n",
    "from mpl_toolkits.mplot3d import Axes3D\n",
    "fig = plt.figure()\n",
    "ax = fig.add_subplot(111, projection='3d')\n",
    "for (gname, group) in df_pc_member.groupby(['agrupacion', 'agrupacion_color']):\n",
    "    print(gname)\n",
    "    if gname == ('', ''):\n",
    "        gname = ('null', '#000000')\n",
    "    ax.scatter(group['PC1'], group['PC2'], group['PC3'], color=gname[1], label=gname[0])\n",
    "#ax.scatter(x, y, z, picker=True, s=100)\n",
    "\n",
    "def onpick(X_3D, event):\n",
    "    #print(event)\n",
    "    if hasattr(onpick, '_label'):\n",
    "        #pass\n",
    "        onpick._label.remove()\n",
    "    thisline = event.artist\n",
    "    ind = event.ind\n",
    "    #print(type(ind))\n",
    "    #print(X_3D[0, ind])\n",
    "    names = df_matrix.iloc[ind].index.values\n",
    "    #print(names)\n",
    "    label = ('\\n'.join(names))\n",
    "    pos = (X_3D[0, ind[0]], X_3D[1, ind[0]], X_3D[2, ind[0]])\n",
    "    #onpick._label = ax.set_title(label\n",
    "    onpick._label = ax.text(*pos, s=label)\n",
    "    fig.canvas.draw()\n",
    "    \n",
    "fig.canvas.mpl_connect('pick_event', lambda e: onpick(X_reduced.T, e))"
   ]
  }
 ],
 "metadata": {
  "kernelspec": {
   "display_name": "Python 3",
   "language": "python",
   "name": "python3"
  },
  "language_info": {
   "codemirror_mode": {
    "name": "ipython",
    "version": 3
   },
   "file_extension": ".py",
   "mimetype": "text/x-python",
   "name": "python",
   "nbconvert_exporter": "python",
   "pygments_lexer": "ipython3",
   "version": "3.8.8"
  }
 },
 "nbformat": 4,
 "nbformat_minor": 0
}
