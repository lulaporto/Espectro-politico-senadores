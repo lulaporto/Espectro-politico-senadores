{
 "cells": [
  {
   "cell_type": "markdown",
   "metadata": {},
   "source": [
    "# Trabajo Final - Econometría Espacial\n",
    "## Propuesta de investigación: análisis espacial del discurso de los senadores nacionales durante la sesión extraordinaria en la que se debatía la interrupción voluntaria del embarazo\n",
    "### Parte 2 del trabajo:\n",
    "Ubicación de los senadores dentro del espectro político utilizando componentes princiaples a partir de las votaciones pasadas."
   ]
  },
  {
   "cell_type": "code",
   "execution_count": 1,
   "metadata": {
    "collapsed": false
   },
   "outputs": [],
   "source": [
    "# Paquetes:\n",
    "# estos creo que no se usan \n",
    "from IPython.core.display import HTML\n",
    "import requests\n",
    "import matplotlib\n",
    "import seaborn as sns\n",
    "from dateutil import parser\n",
    "import pytz\n",
    "import pylab as pl\n",
    "# %pip install pyquery\n",
    "from pyquery import PyQuery as pq\n",
    "import scipy\n",
    "from lxml import etree\n",
    "import os\n",
    "from os import path\n",
    "from pprint import pprint\n",
    "import dateutil\n",
    "\n",
    "# estos son los que se usan \n",
    "import pandas as pd\n",
    "import numpy as np\n",
    "from matplotlib import pyplot as plt\n",
    "import datetime\n",
    "import json\n",
    "%matplotlib inline"
   ]
  },
  {
   "cell_type": "code",
   "execution_count": 2,
   "metadata": {
    "collapsed": true
   },
   "outputs": [],
   "source": [
    "# Esta línea de código lee los archivos dentro de la carpeta jsons\n",
    "# Si se quiere aumentar el rango del loop, hay que obtener los json:\n",
    "# (1) ir a la terminal de Git Bash, setear el directorio en donde esta este archivo:\n",
    "# cd \"C:\\Users\\lulap\\Documents\\Maestria\\3er Trimestre\\Econometria espacial\\Homework\\Trabajo final\\Espectro-politico-senadores\"\n",
    "# (2) Cheqeuar que el archivo scrape-jsons.sh este dentro de la carpeta del directorio:\n",
    "# ls\n",
    "# (3) Correr el archivo habiendo cambiando los numeros de la secuencia dentro del archivo:\n",
    "# bash scrape-jsons.sh\n",
    "\n",
    "all_motions_json = []\n",
    "for i in range(1, 2500+1):\n",
    "    try:\n",
    "        j = json.load(open('jsons/%s.json' % i))\n",
    "        all_motions_json.append(j)\n",
    "    except:\n",
    "        pass"
   ]
  },
  {
   "cell_type": "code",
   "execution_count": 3,
   "metadata": {
    "collapsed": false
   },
   "outputs": [
    {
     "data": {
      "text/plain": [
       "'16/12/2021'"
      ]
     },
     "execution_count": 3,
     "metadata": {},
     "output_type": "execute_result"
    }
   ],
   "source": [
    "# Esta línea de código muestra la fecha de la última sesión\n",
    "j['fecha']"
   ]
  },
  {
   "cell_type": "code",
   "execution_count": 3,
   "metadata": {
    "collapsed": false
   },
   "outputs": [],
   "source": [
    "s_votes = []\n",
    "\n",
    "for m in all_motions_json:\n",
    "    v = m['votos']\n",
    "    s = pd.DataFrame(v)\n",
    "    s['sesion_id'] = m['sesion_id']\n",
    "    s['datestr'] = m['fecha']\n",
    "    s = s.set_index(['legislador_id', 'sesion_id'])\n",
    "    s_votes.append(s)"
   ]
  },
  {
   "cell_type": "code",
   "execution_count": 4,
   "metadata": {
    "collapsed": false
   },
   "outputs": [],
   "source": [
    "# Convierto la lista en un panda data frame:\n",
    "df_votes = pd.concat(s_votes)\n",
    "\n",
    "# print(type(s_votes))\n",
    "# print(type(df_votes))"
   ]
  },
  {
   "cell_type": "code",
   "execution_count": 7,
   "metadata": {},
   "outputs": [
    {
     "data": {
      "text/plain": [
       "array(['AFIRMATIVO', 'AUSENTE', 'NEGATIVO', 'ABSTENCION', 'PRESIDENTE',\n",
       "       'Movimiento Popular Neuquino', '', 'LEV.VOT.', 'SIN VOTAR',\n",
       "       'PRESENTE', 'ABST'], dtype=object)"
      ]
     },
     "execution_count": 7,
     "metadata": {},
     "output_type": "execute_result"
    }
   ],
   "source": [
    "# Valores posibles que toma la variable voto\n",
    "df_votes['voto'].unique()"
   ]
  },
  {
   "cell_type": "code",
   "execution_count": 24,
   "metadata": {},
   "outputs": [],
   "source": [
    "# Eliminamos las filas con votos que no interesan\n",
    "df_votes = df_votes[df_votes.voto != 'Movimiento Popular Neuquino']\n",
    "df_votes = df_votes[df_votes.voto != 'PRESIDENTE']\n",
    "df_votes = df_votes[df_votes.voto != 'LEV.VOT.']\n",
    "df_votes = df_votes[df_votes.voto != 'PRESENTE']"
   ]
  },
  {
   "cell_type": "code",
   "execution_count": 25,
   "metadata": {},
   "outputs": [
    {
     "data": {
      "text/plain": [
       "array(['AFIRMATIVO', 'AUSENTE', 'NEGATIVO', 'ABSTENCION', '', 'SIN VOTAR',\n",
       "       'ABST'], dtype=object)"
      ]
     },
     "execution_count": 25,
     "metadata": {},
     "output_type": "execute_result"
    }
   ],
   "source": [
    "# Chequeo haber eliminado bien\n",
    "df_votes['voto'].unique()"
   ]
  },
  {
   "cell_type": "code",
   "execution_count": 26,
   "metadata": {
    "collapsed": false
   },
   "outputs": [],
   "source": [
    "# Este bloque de código asigna a cada valor posible de voto (string) un valor\n",
    "def vote_to_number(v):\n",
    "    MAPPING = {\n",
    "        'AFIRMATIVO': 1, # Yes\n",
    "        'AUSENTE': 0, # Absent, did not come to the session\n",
    "        'NEGATIVO': -1, # No\n",
    "        'ABSTENCION': 0, # person is present, but not vote\n",
    "        'ABST': 0,\n",
    "        'SIN VOTAR': 0,\n",
    "        '': 0,\n",
    "    }\n",
    "    return MAPPING.get(v, 0)\n",
    "    \n",
    "df_votes['vote-value'] = df_votes['voto'].apply(vote_to_number)"
   ]
  },
  {
   "cell_type": "code",
   "execution_count": 27,
   "metadata": {
    "collapsed": false
   },
   "outputs": [],
   "source": [
    "# En la base de datos, la columna de la fecha es un string, con este bloque de códigos lo paso a formato fecha\n",
    "from datetime import date\n",
    "\n",
    "df_votes['date'] = df_votes['datestr'].apply(lambda x: date(\n",
    "        int(x.split('/')[2]), \n",
    "        int(x.split('/')[1]), \n",
    "        int(x.split('/')[0])\n",
    "    ))\n",
    "df_votes['datetime'] = df_votes['date'].apply(lambda d: datetime.datetime(*d.timetuple()[:7]))"
   ]
  },
  {
   "cell_type": "code",
   "execution_count": 28,
   "metadata": {
    "collapsed": false
   },
   "outputs": [],
   "source": [
    "# Calculo la cantidad de partidos políticos dentro de la base de datos\n",
    "s = df_votes['partido'].value_counts()\n",
    "df_party_counts = pd.DataFrame(df_votes['partido'].value_counts()).reset_index()\n",
    "df_party_counts.columns = ['party', 'count']\n",
    "\n",
    "# Exporto la base de datos a un csv\n",
    "df_party_counts.to_csv('data/party-count.csv')"
   ]
  },
  {
   "cell_type": "code",
   "execution_count": null,
   "metadata": {
    "collapsed": false
   },
   "outputs": [],
   "source": [
    "# Vemos el data frame\n",
    "# df_votes"
   ]
  },
  {
   "cell_type": "code",
   "execution_count": 29,
   "metadata": {
    "collapsed": false
   },
   "outputs": [
    {
     "name": "stdout",
     "output_type": "stream",
     "text": [
      "Total number of sessions (ambas camaras): 915\n",
      "Total number of legislators (senadores y diputados): 1040\n",
      "Total de observaciones: 189358\n"
     ]
    }
   ],
   "source": [
    "# Analizando la base de datos:\n",
    "print('Total number of sessions (ambas camaras):', len(df_votes.reset_index()['sesion_id'].value_counts()))\n",
    "print('Total number of legislators (senadores y diputados):', len(df_votes.reset_index()['legislador_id'].value_counts()))\n",
    "print('Total de observaciones:', len(df_votes))"
   ]
  },
  {
   "cell_type": "code",
   "execution_count": 30,
   "metadata": {
    "collapsed": false
   },
   "outputs": [],
   "source": [
    "# Exporto la base de datos a un csv\n",
    "df_votes.to_csv('data/votes.csv')"
   ]
  },
  {
   "cell_type": "code",
   "execution_count": 31,
   "metadata": {
    "collapsed": false
   },
   "outputs": [
    {
     "name": "stdout",
     "output_type": "stream",
     "text": [
      "755\n",
      "La cantidad de senadores dentro de la base de datos es:  489\n"
     ]
    }
   ],
   "source": [
    "df_member_profile = df_votes.reset_index()[['legislador_id', 'agrupacion', 'agrupacion_color', 'camara', 'mail', 'nombre', 'partido']].drop_duplicates()\n",
    "\n",
    "# Me quedo sólo con las sesiones que se corresponden con la camara de senadores\n",
    "# df_member_profile['camara'].unique()\n",
    "mask = df_member_profile['camara'] == 'senadores'\n",
    "df_member_profile = df_member_profile.loc[mask]\n",
    "# df_member_profile['camara'].unique()\n",
    "\n",
    "print(len(df_member_profile))\n",
    "\n",
    "df_member_profile = df_member_profile.drop_duplicates('legislador_id')\n",
    "print('La cantidad de senadores dentro de la base de datos es: ', len(df_member_profile))\n",
    "\n",
    "# Exporto la base de datos a un archivo csv\n",
    "df_member_profile.to_csv('data/member-profile.csv')"
   ]
  },
  {
   "cell_type": "code",
   "execution_count": 32,
   "metadata": {
    "collapsed": false
   },
   "outputs": [],
   "source": [
    "df_selected_votes = df_votes[\n",
    "    # Me quedo con las sesiones desde 2014\n",
    "    (df_votes['date'] >= date(2013, 12, 12))\n",
    "    &\n",
    "    # hasta 2020\n",
    "    (df_votes['date'] <= date(2020, 12, 12))\n",
    "]"
   ]
  },
  {
   "cell_type": "code",
   "execution_count": 33,
   "metadata": {},
   "outputs": [],
   "source": [
    "# Me quedo sólo con las sesiones que se corresponden con la camara de senadores\n",
    "# df_selected_votes['camara'].unique()\n",
    "\n",
    "mask = df_selected_votes['camara'] == 'senadores'\n",
    "df_selected_votes = df_selected_votes.loc[mask]\n",
    "# df_selected_votes['camara'].unique()"
   ]
  },
  {
   "cell_type": "code",
   "execution_count": 34,
   "metadata": {
    "collapsed": false
   },
   "outputs": [
    {
     "name": "stdout",
     "output_type": "stream",
     "text": [
      "Después de filtrar por los años y de quedarnos únicamente con las sesiones de la camara de senadores, la base de datos quedó con 29064 observaciones, y con 486 senadores. \n"
     ]
    }
   ],
   "source": [
    "print('Después de filtrar por los años y de quedarnos únicamente con las sesiones de la camara de senadores, la base de datos quedó con', len(df_selected_votes), 'observaciones, y con', len(df_selected_votes.reset_index()['legislador_id'].unique()), 'senadores. ')"
   ]
  },
  {
   "cell_type": "code",
   "execution_count": 35,
   "metadata": {
    "collapsed": false
   },
   "outputs": [],
   "source": [
    "df_votes_brief = df_selected_votes[['voto', 'vote-value', 'date']]"
   ]
  },
  {
   "cell_type": "code",
   "execution_count": 36,
   "metadata": {},
   "outputs": [
    {
     "data": {
      "text/html": [
       "<div>\n",
       "<style scoped>\n",
       "    .dataframe tbody tr th:only-of-type {\n",
       "        vertical-align: middle;\n",
       "    }\n",
       "\n",
       "    .dataframe tbody tr th {\n",
       "        vertical-align: top;\n",
       "    }\n",
       "\n",
       "    .dataframe thead th {\n",
       "        text-align: right;\n",
       "    }\n",
       "</style>\n",
       "<table border=\"1\" class=\"dataframe\">\n",
       "  <thead>\n",
       "    <tr style=\"text-align: right;\">\n",
       "      <th></th>\n",
       "      <th></th>\n",
       "      <th>voto</th>\n",
       "      <th>vote-value</th>\n",
       "      <th>date</th>\n",
       "    </tr>\n",
       "    <tr>\n",
       "      <th>legislador_id</th>\n",
       "      <th>sesion_id</th>\n",
       "      <th></th>\n",
       "      <th></th>\n",
       "      <th></th>\n",
       "    </tr>\n",
       "  </thead>\n",
       "  <tbody>\n",
       "    <tr>\n",
       "      <th>446</th>\n",
       "      <th>706</th>\n",
       "      <td>AFIRMATIVO</td>\n",
       "      <td>1</td>\n",
       "      <td>2016-08-10</td>\n",
       "    </tr>\n",
       "    <tr>\n",
       "      <th>362</th>\n",
       "      <th>706</th>\n",
       "      <td>AFIRMATIVO</td>\n",
       "      <td>1</td>\n",
       "      <td>2016-08-10</td>\n",
       "    </tr>\n",
       "    <tr>\n",
       "      <th>925</th>\n",
       "      <th>706</th>\n",
       "      <td>AFIRMATIVO</td>\n",
       "      <td>1</td>\n",
       "      <td>2016-08-10</td>\n",
       "    </tr>\n",
       "    <tr>\n",
       "      <th>947</th>\n",
       "      <th>706</th>\n",
       "      <td>AFIRMATIVO</td>\n",
       "      <td>1</td>\n",
       "      <td>2016-08-10</td>\n",
       "    </tr>\n",
       "    <tr>\n",
       "      <th>946</th>\n",
       "      <th>706</th>\n",
       "      <td>AFIRMATIVO</td>\n",
       "      <td>1</td>\n",
       "      <td>2016-08-10</td>\n",
       "    </tr>\n",
       "    <tr>\n",
       "      <th>...</th>\n",
       "      <th>...</th>\n",
       "      <td>...</td>\n",
       "      <td>...</td>\n",
       "      <td>...</td>\n",
       "    </tr>\n",
       "    <tr>\n",
       "      <th>930</th>\n",
       "      <th>2156</th>\n",
       "      <td>AUSENTE</td>\n",
       "      <td>0</td>\n",
       "      <td>2020-10-02</td>\n",
       "    </tr>\n",
       "    <tr>\n",
       "      <th>266</th>\n",
       "      <th>2156</th>\n",
       "      <td>AUSENTE</td>\n",
       "      <td>0</td>\n",
       "      <td>2020-10-02</td>\n",
       "    </tr>\n",
       "    <tr>\n",
       "      <th>1323</th>\n",
       "      <th>2156</th>\n",
       "      <td>AUSENTE</td>\n",
       "      <td>0</td>\n",
       "      <td>2020-10-02</td>\n",
       "    </tr>\n",
       "    <tr>\n",
       "      <th>99</th>\n",
       "      <th>2156</th>\n",
       "      <td>AUSENTE</td>\n",
       "      <td>0</td>\n",
       "      <td>2020-10-02</td>\n",
       "    </tr>\n",
       "    <tr>\n",
       "      <th>935</th>\n",
       "      <th>2156</th>\n",
       "      <td>AUSENTE</td>\n",
       "      <td>0</td>\n",
       "      <td>2020-10-02</td>\n",
       "    </tr>\n",
       "  </tbody>\n",
       "</table>\n",
       "<p>29064 rows × 3 columns</p>\n",
       "</div>"
      ],
      "text/plain": [
       "                               voto  vote-value        date\n",
       "legislador_id sesion_id                                    \n",
       "446           706        AFIRMATIVO           1  2016-08-10\n",
       "362           706        AFIRMATIVO           1  2016-08-10\n",
       "925           706        AFIRMATIVO           1  2016-08-10\n",
       "947           706        AFIRMATIVO           1  2016-08-10\n",
       "946           706        AFIRMATIVO           1  2016-08-10\n",
       "...                             ...         ...         ...\n",
       "930           2156          AUSENTE           0  2020-10-02\n",
       "266           2156          AUSENTE           0  2020-10-02\n",
       "1323          2156          AUSENTE           0  2020-10-02\n",
       "99            2156          AUSENTE           0  2020-10-02\n",
       "935           2156          AUSENTE           0  2020-10-02\n",
       "\n",
       "[29064 rows x 3 columns]"
      ]
     },
     "execution_count": 36,
     "metadata": {},
     "output_type": "execute_result"
    }
   ],
   "source": [
    "df_votes_brief"
   ]
  },
  {
   "cell_type": "code",
   "execution_count": 37,
   "metadata": {
    "collapsed": false
   },
   "outputs": [
    {
     "data": {
      "text/plain": [
       "AFIRMATIVO    20261\n",
       "AUSENTE        5602\n",
       "NEGATIVO       2395\n",
       "ABSTENCION      575\n",
       "                144\n",
       "SIN VOTAR        85\n",
       "ABST              2\n",
       "Name: voto, dtype: int64"
      ]
     },
     "execution_count": 37,
     "metadata": {},
     "output_type": "execute_result"
    }
   ],
   "source": [
    "df_votes_brief['voto'].value_counts()"
   ]
  },
  {
   "cell_type": "code",
   "execution_count": 76,
   "metadata": {},
   "outputs": [],
   "source": [
    "# La siguiente línea de código me tira error\n",
    "# df_matrix = df_votes_brief.reset_index().pivot(index='legislador_id', columns='sesion_id', values='vote-value')\n",
    "# Separo por año y me fijo en que año esta el problema:\n",
    "\n",
    "# 2014\n",
    "df_votes_brief_2014 = df_votes_brief[\n",
    "    (df_votes_brief['date'] >= date(2013, 12, 12))\n",
    "    &\n",
    "    (df_votes_brief['date'] <= date(2014, 12, 12))\n",
    "]\n",
    "\n",
    "# 2015\n",
    "df_votes_brief_2015 = df_votes_brief[\n",
    "    (df_votes_brief['date'] >= date(2014, 12, 12))\n",
    "    &\n",
    "    (df_votes_brief['date'] <= date(2015, 12, 12))\n",
    "]\n",
    "\n",
    "# 2016\n",
    "df_votes_brief_2016 = df_votes_brief[\n",
    "    (df_votes_brief['date'] >= date(2015, 12, 12))\n",
    "    &\n",
    "    (df_votes_brief['date'] <= date(2016, 12, 12))\n",
    "]\n",
    "\n",
    "# 2017\n",
    "df_votes_brief_2017 = df_votes_brief[\n",
    "    (df_votes_brief['date'] >= date(2016, 12, 12))\n",
    "    &\n",
    "    (df_votes_brief['date'] <= date(2017, 12, 12))\n",
    "]\n",
    "\n",
    "# 2018\n",
    "df_votes_brief_2018 = df_votes_brief[\n",
    "    (df_votes_brief['date'] >= date(2017, 12, 12))\n",
    "    &\n",
    "    (df_votes_brief['date'] <= date(2018, 12, 12))\n",
    "]\n",
    "\n",
    "# 2019\n",
    "df_votes_brief_2019 = df_votes_brief[\n",
    "    (df_votes_brief['date'] >= date(2018, 12, 12))\n",
    "    &\n",
    "    (df_votes_brief['date'] <= date(2019, 12, 12))\n",
    "]\n",
    "\n",
    "# 2020\n",
    "df_votes_brief_2020 = df_votes_brief[\n",
    "    (df_votes_brief['date'] >= date(2019, 12, 12))\n",
    "    &\n",
    "    (df_votes_brief['date'] <= date(2020, 12, 12))\n",
    "]"
   ]
  },
  {
   "cell_type": "code",
   "execution_count": 84,
   "metadata": {},
   "outputs": [],
   "source": [
    "# Las bases de datos de 2014 y 2015 estan vacias\n",
    "# df_votes_brief_2014"
   ]
  },
  {
   "cell_type": "code",
   "execution_count": 90,
   "metadata": {
    "collapsed": false
   },
   "outputs": [],
   "source": [
    "df_matrix_2016 = df_votes_brief_2016.reset_index().pivot(index='legislador_id', columns='sesion_id', values='vote-value')\n",
    "df_matrix_2017 = df_votes_brief_2017.reset_index().pivot(index='legislador_id', columns='sesion_id', values='vote-value')\n",
    "# df_matrix_2018 = df_votes_brief_2018.reset_index().pivot(index='legislador_id', columns='sesion_id', values='vote-value')\n",
    "# El 2018 me tira el siguiente error:\n",
    "# Index contains duplicate entries, cannot reshape\n",
    "df_matrix_2019 = df_votes_brief_2019.reset_index().pivot(index='legislador_id', columns='sesion_id', values='vote-value')\n",
    "df_matrix_2020 = df_votes_brief_2020.reset_index().pivot(index='legislador_id', columns='sesion_id', values='vote-value')"
   ]
  },
  {
   "cell_type": "code",
   "execution_count": 38,
   "metadata": {},
   "outputs": [],
   "source": [
    "# Como el problema esta en el 2018, lo saco y trabajo con el resto de los años\n",
    "df_votes_brief_sin2018 = df_votes_brief[\n",
    "    ( (df_votes_brief['date'] >= date(2013, 12, 12)) & (df_votes_brief['date'] < date(2017, 12, 12)) )\n",
    "    | (df_votes_brief['date'] > date(2018, 12, 12))\n",
    "    ]"
   ]
  },
  {
   "cell_type": "code",
   "execution_count": 40,
   "metadata": {},
   "outputs": [],
   "source": [
    "# Aplicamos el reshape\n",
    "df_matrix_sin2018 = df_votes_brief_sin2018.reset_index().pivot(index='legislador_id', columns='sesion_id', values='vote-value')"
   ]
  },
  {
   "cell_type": "code",
   "execution_count": 41,
   "metadata": {
    "collapsed": false
   },
   "outputs": [],
   "source": [
    "# Cambiamos por missing values por 0\n",
    "# df_matrix = df_matrix.fillna(0)\n",
    "df_matrix_sin2018 = df_matrix_sin2018.fillna(0)\n",
    "\n",
    "# Importante: Aca esta poniendo como 0 tmb en la columna vote-value a aquellos que tenian valores extraños!"
   ]
  },
  {
   "cell_type": "code",
   "execution_count": 42,
   "metadata": {
    "collapsed": false
   },
   "outputs": [],
   "source": [
    "# Exportamos la base de datos como un archivo csv\n",
    "# df_matrix.to_csv('data/matrix-2014-2020.csv')\n",
    "df_matrix_sin2018.to_csv('data/matrix-2014-2020-sin2018.csv')"
   ]
  },
  {
   "cell_type": "code",
   "execution_count": 43,
   "metadata": {
    "collapsed": false
   },
   "outputs": [
    {
     "data": {
      "text/plain": [
       "(486, 230)"
      ]
     },
     "execution_count": 43,
     "metadata": {},
     "output_type": "execute_result"
    }
   ],
   "source": [
    "# df_matrix.shape\n",
    "# (29128, 266)\n",
    "df_matrix_sin2018.shape\n",
    "# (488, 230)\n",
    "# (486, 230)"
   ]
  },
  {
   "cell_type": "markdown",
   "metadata": {},
   "source": [
    "#### Componentes princiaples"
   ]
  },
  {
   "cell_type": "code",
   "execution_count": 44,
   "metadata": {
    "collapsed": true
   },
   "outputs": [],
   "source": [
    "# X = np.matrix(df_matrix.fillna(0).as_matrix()).astype('int8')\n",
    "# X = np.matrix.astype('int8')\n",
    "# X = np.matrix\n",
    "# X = np.matrix(df_matrix.fillna(0).astype('int8'))\n",
    "X = np.matrix(df_matrix_sin2018.fillna(0).astype('int8'))"
   ]
  },
  {
   "cell_type": "code",
   "execution_count": 45,
   "metadata": {
    "collapsed": true
   },
   "outputs": [],
   "source": [
    "from sklearn.decomposition import PCA\n",
    "pca = PCA(n_components=3)\n",
    "X_reduced = pca.fit_transform(X)\n",
    "# df_pc = pd.DataFrame(X_reduced, index=df_matrix.index, columns=['PC1', 'PC2', 'PC3'])\n",
    "df_pc = pd.DataFrame(X_reduced, index=df_matrix_sin2018.index, columns=['PC1', 'PC2', 'PC3'])"
   ]
  },
  {
   "cell_type": "code",
   "execution_count": 123,
   "metadata": {},
   "outputs": [],
   "source": [
    "# El output de componentes principales es una matriz con el index del legislador y el valor de los 3 componentes princiaples\n",
    "# df_pc"
   ]
  },
  {
   "cell_type": "code",
   "execution_count": 46,
   "metadata": {
    "collapsed": false
   },
   "outputs": [
    {
     "data": {
      "text/plain": [
       "array([10.14631908,  4.56293317,  3.47177808])"
      ]
     },
     "execution_count": 46,
     "metadata": {},
     "output_type": "execute_result"
    }
   ],
   "source": [
    "# Autovalores:\n",
    "pca.explained_variance_"
   ]
  },
  {
   "cell_type": "code",
   "execution_count": 47,
   "metadata": {},
   "outputs": [
    {
     "name": "stdout",
     "output_type": "stream",
     "text": [
      "El primer componente principal explica el 30.173783552874422 porciento de la variabilidad de los datos, el segundo componente princiapl explica el 13.569547427748413 , y el tercero, el 10.32459943289939\n"
     ]
    }
   ],
   "source": [
    "# Porcentaje de la variabilidad de los datos por cada uno de los componentes:\n",
    "# pca.explained_variance_ratio_\n",
    "print('El primer componente principal explica el', pca.explained_variance_ratio_[0]*100, 'porciento de la variabilidad de los datos, el segundo componente princiapl explica el', pca.explained_variance_ratio_[1]*100, ', y el tercero, el', pca.explained_variance_ratio_[2]*100)\n",
    "\n",
    "# ¿no debería sumar 1?\n",
    "# If n_components is not set then all components are stored and the sum of the ratios is equal to 1.0."
   ]
  },
  {
   "cell_type": "code",
   "execution_count": 48,
   "metadata": {
    "collapsed": false
   },
   "outputs": [
    {
     "data": {
      "text/plain": [
       "<AxesSubplot:xlabel='PC1', ylabel='PC2'>"
      ]
     },
     "execution_count": 48,
     "metadata": {},
     "output_type": "execute_result"
    },
    {
     "data": {
      "image/png": "[encoded data removed]",
      "text/plain": [
       "<Figure size 432x288 with 1 Axes>"
      ]
     },
     "metadata": {
      "needs_background": "light"
     },
     "output_type": "display_data"
    }
   ],
   "source": [
    "# Gráfico en dos dimensiones\n",
    "%matplotlib inline\n",
    "df_pc[['PC1', 'PC2']].plot(x='PC1', y='PC2', kind='scatter')"
   ]
  },
  {
   "cell_type": "code",
   "execution_count": 49,
   "metadata": {
    "collapsed": true
   },
   "outputs": [],
   "source": [
    "# Abrimos la base de datos de los partidos políticos para poder diferenciar en el gráfico según el partido político\n",
    "df_party_count_color = pd.read_csv('data/party-count-color.csv')"
   ]
  },
  {
   "cell_type": "code",
   "execution_count": 50,
   "metadata": {
    "collapsed": false
   },
   "outputs": [
    {
     "name": "stdout",
     "output_type": "stream",
     "text": [
      "La cantidad de observaciones (senadores) de la base de datos output de PCA es: 486\n",
      "La cantidad de senadores e info de cada uno es: 489\n"
     ]
    }
   ],
   "source": [
    "print('La cantidad de observaciones (senadores) de la base de datos output de PCA es:', len(df_pc))\n",
    "print('La cantidad de senadores e info de cada uno es:', len(df_member_profile))"
   ]
  },
  {
   "cell_type": "code",
   "execution_count": 51,
   "metadata": {
    "collapsed": false
   },
   "outputs": [],
   "source": [
    "# Mergeamos ambas bases de datos según el index del legislador\n",
    "df_pc_member = pd.merge(df_pc.reset_index(), df_member_profile, how='left',\n",
    "                        left_on='legislador_id', right_on='legislador_id')"
   ]
  },
  {
   "cell_type": "code",
   "execution_count": 59,
   "metadata": {},
   "outputs": [],
   "source": [
    "# Exportamos la base de datos como un csv\n",
    "# df_pc_member.to_csv('data/senadores-pca.csv', index=False, encoding = \"utf-8\")\n",
    "df_pc_member.to_csv('data/senadores-pca.csv', index=False, encoding = \"utf-16\")\n",
    "# df_pc_member.to_csv('data/senadores-pca.csv', index=False, encoding = \"utf-8-sig\")"
   ]
  },
  {
   "cell_type": "code",
   "execution_count": 53,
   "metadata": {
    "collapsed": false
   },
   "outputs": [
    {
     "name": "stdout",
     "output_type": "stream",
     "text": [
      "Ahora entonces hay info y PCA de 486 senadores.\n"
     ]
    }
   ],
   "source": [
    "print('Ahora entonces hay info y PCA de', len(df_pc_member), 'senadores.')\n",
    "\n",
    "# Notar que tiene que ser igual len(df_pc) y len(df_pc_member)"
   ]
  },
  {
   "cell_type": "code",
   "execution_count": 117,
   "metadata": {
    "collapsed": false
   },
   "outputs": [],
   "source": [
    "# plt.scatter(1, 2)\n",
    "# plt.scatter(2, 3)"
   ]
  },
  {
   "cell_type": "code",
   "execution_count": 54,
   "metadata": {
    "collapsed": false
   },
   "outputs": [
    {
     "name": "stdout",
     "output_type": "stream",
     "text": [
      "('', '')\n",
      "('Cambiemos', '#FEDB30')\n",
      "('Consenso Federal / PJ no K', '#00FF50')\n",
      "('Izquierda', '#D23939')\n",
      "('Kirchnerismo y aliados', '#A5D4E5')\n",
      "('Kirchnerismo/PJ', '#A5D4E5')\n",
      "('Massismo y aliados', '#b185b7')\n",
      "('Otros', '#A6A6A6')\n",
      "('PJ ', '#A05F11')\n",
      "('Peronismo no K', '#00FF50')\n"
     ]
    },
    {
     "data": {
      "text/plain": [
       "Text(0, 0.5, 'PC2')"
      ]
     },
     "execution_count": 54,
     "metadata": {},
     "output_type": "execute_result"
    },
    {
     "data": {
      "image/png": "[encoded data removed]",
      "text/plain": [
       "<Figure size 864x432 with 1 Axes>"
      ]
     },
     "metadata": {
      "needs_background": "light"
     },
     "output_type": "display_data"
    }
   ],
   "source": [
    "# Gráfico en dos dimensiones pero diferenciando según partido político\n",
    "plt.figure(figsize=(12, 6))\n",
    "ax = plt.subplot(1, 1, 1)\n",
    "from matplotlib.colors import ColorConverter\n",
    "\n",
    "'''\n",
    "for (i, m) in df_pc_member.iterrows():\n",
    "    #print(m['PC1'])\n",
    "    ax.scatter(m['PC1'], m['PC2'], color=m['_color'])\n",
    "    #print(m)\n",
    "'''\n",
    "\n",
    "for (gname, group) in df_pc_member.groupby(['agrupacion', 'agrupacion_color']):\n",
    "    print(gname)\n",
    "    if gname == ('', ''):\n",
    "        gname = ('null', '#000000')\n",
    "    ax.scatter(group['PC1'], group['PC2'], color=gname[1], label=gname[0])\n",
    "\n",
    "plt.legend(loc='upper left')\n",
    "plt.xlabel('PC1')\n",
    "plt.ylabel('PC2')\n",
    "\n",
    "#df_pc[['PC1', 'PC2']].plot(x='PC1', y='PC2', kind='scatter')"
   ]
  },
  {
   "cell_type": "code",
   "execution_count": 55,
   "metadata": {
    "collapsed": false
   },
   "outputs": [
    {
     "name": "stdout",
     "output_type": "stream",
     "text": [
      "('', '')\n",
      "('Cambiemos', '#FEDB30')\n",
      "('Consenso Federal / PJ no K', '#00FF50')\n",
      "('Izquierda', '#D23939')\n",
      "('Kirchnerismo y aliados', '#A5D4E5')\n",
      "('Kirchnerismo/PJ', '#A5D4E5')\n",
      "('Massismo y aliados', '#b185b7')\n",
      "('Otros', '#A6A6A6')\n",
      "('PJ ', '#A05F11')\n",
      "('Peronismo no K', '#00FF50')\n"
     ]
    },
    {
     "data": {
      "text/plain": [
       "Text(0, 0.5, 'PC2')"
      ]
     },
     "execution_count": 55,
     "metadata": {},
     "output_type": "execute_result"
    },
    {
     "data": {
      "image/png": "[encoded data removed]",
      "text/plain": [
       "<Figure size 864x432 with 1 Axes>"
      ]
     },
     "metadata": {
      "needs_background": "light"
     },
     "output_type": "display_data"
    }
   ],
   "source": [
    "# Gráfico en una única dimensión\n",
    "%matplotlib inline\n",
    "\n",
    "plt.figure(figsize=(12, 6))\n",
    "ax = plt.subplot(1, 1, 1)\n",
    "from matplotlib.colors import ColorConverter\n",
    "\n",
    "'''\n",
    "for (i, m) in df_pc_member.iterrows():\n",
    "    #print(m['PC1'])\n",
    "    ax.scatter(m['PC1'], m['PC2'], color=m['_color'])\n",
    "    #print(m)\n",
    "'''\n",
    "\n",
    "for (gname, group) in df_pc_member.groupby(['agrupacion', 'agrupacion_color']):\n",
    "    print(gname)\n",
    "    if gname == ('', ''):\n",
    "        gname = ('null', '#000000')\n",
    "    ax.scatter(group['PC1'], [0] * len(group['PC1']), color=gname[1], label=gname[0])\n",
    "\n",
    "plt.legend(loc='upper left')\n",
    "plt.xlabel('PC1')\n",
    "plt.ylabel('PC2')\n",
    "\n",
    "#df_pc[['PC1', 'PC2']].plot(x='PC1', y='PC2', kind='scatter')"
   ]
  },
  {
   "cell_type": "code",
   "execution_count": 56,
   "metadata": {
    "collapsed": false
   },
   "outputs": [
    {
     "data": {
      "text/plain": [
       "130709"
      ]
     },
     "execution_count": 56,
     "metadata": {},
     "output_type": "execute_result"
    }
   ],
   "source": [
    "df_pc_member['legislador_id'] = df_pc_member['legislador_id'].apply(lambda x: str(x))\n",
    "open('data/pc-member-3d.json', 'w').write(json.dumps(\n",
    "    df_pc_member.set_index('legislador_id').T.to_dict()\n",
    "    ))"
   ]
  },
  {
   "cell_type": "code",
   "execution_count": 57,
   "metadata": {
    "collapsed": false
   },
   "outputs": [
    {
     "name": "stdout",
     "output_type": "stream",
     "text": [
      "('', '')\n",
      "('Cambiemos', '#FEDB30')\n",
      "('Consenso Federal / PJ no K', '#00FF50')\n",
      "('Izquierda', '#D23939')\n",
      "('Kirchnerismo y aliados', '#A5D4E5')\n",
      "('Kirchnerismo/PJ', '#A5D4E5')\n",
      "('Massismo y aliados', '#b185b7')\n",
      "('Otros', '#A6A6A6')\n",
      "('PJ ', '#A05F11')\n",
      "('Peronismo no K', '#00FF50')\n"
     ]
    },
    {
     "data": {
      "text/plain": [
       "8"
      ]
     },
     "execution_count": 57,
     "metadata": {},
     "output_type": "execute_result"
    },
    {
     "data": {
      "image/png": "[encoded data removed]",
      "text/plain": [
       "<Figure size 432x288 with 1 Axes>"
      ]
     },
     "metadata": {
      "needs_background": "light"
     },
     "output_type": "display_data"
    }
   ],
   "source": [
    "# Gráfico en tres dimensiones:\n",
    "%matplotlib inline\n",
    "\n",
    "x = np.array(X_reduced.T[0, :]).astype('float')\n",
    "y = np.array(X_reduced.T[1, :]).astype('float')\n",
    "z = np.array(X_reduced.T[2, :]).astype('float')\n",
    "\n",
    "from mpl_toolkits.mplot3d import Axes3D\n",
    "fig = plt.figure()\n",
    "ax = fig.add_subplot(111, projection='3d')\n",
    "for (gname, group) in df_pc_member.groupby(['agrupacion', 'agrupacion_color']):\n",
    "    print(gname)\n",
    "    if gname == ('', ''):\n",
    "        gname = ('null', '#000000')\n",
    "    ax.scatter(group['PC1'], group['PC2'], group['PC3'], color=gname[1], label=gname[0])\n",
    "#ax.scatter(x, y, z, picker=True, s=100)\n",
    "\n",
    "def onpick(X_3D, event):\n",
    "    #print(event)\n",
    "    if hasattr(onpick, '_label'):\n",
    "        #pass\n",
    "        onpick._label.remove()\n",
    "    thisline = event.artist\n",
    "    ind = event.ind\n",
    "    #print(type(ind))\n",
    "    #print(X_3D[0, ind])\n",
    "    # names = df_matrix.iloc[ind].index.values\n",
    "    names = df_matrix_sin2018.iloc[ind].index.values\n",
    "    #print(names)\n",
    "    label = ('\\n'.join(names))\n",
    "    pos = (X_3D[0, ind[0]], X_3D[1, ind[0]], X_3D[2, ind[0]])\n",
    "    #onpick._label = ax.set_title(label\n",
    "    onpick._label = ax.text(*pos, s=label)\n",
    "    fig.canvas.draw()\n",
    "    \n",
    "fig.canvas.mpl_connect('pick_event', lambda e: onpick(X_reduced.T, e))"
   ]
  }
 ],
 "metadata": {
  "kernelspec": {
   "display_name": "Python 3",
   "language": "python",
   "name": "python3"
  },
  "language_info": {
   "codemirror_mode": {
    "name": "ipython",
    "version": 3
   },
   "file_extension": ".py",
   "mimetype": "text/x-python",
   "name": "python",
   "nbconvert_exporter": "python",
   "pygments_lexer": "ipython3",
   "version": "3.8.8"
  }
 },
 "nbformat": 4,
 "nbformat_minor": 0
}
